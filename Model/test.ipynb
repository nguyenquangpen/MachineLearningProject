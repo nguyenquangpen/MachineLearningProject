{
 "cells": [
  {
   "cell_type": "code",
   "id": "initial_id",
   "metadata": {
    "collapsed": true,
    "ExecuteTime": {
     "end_time": "2024-10-11T14:24:22.130106Z",
     "start_time": "2024-10-11T14:24:22.127017Z"
    }
   },
   "source": "import numpy as np",
   "outputs": [],
   "execution_count": 2
  },
  {
   "metadata": {
    "ExecuteTime": {
     "end_time": "2024-10-11T14:25:24.288800Z",
     "start_time": "2024-10-11T14:25:24.285259Z"
    }
   },
   "cell_type": "code",
   "source": [
    "A = np.array([[1,2],[3,4]])\n",
    "print(A.dtype)"
   ],
   "id": "2450fe1522475d58",
   "outputs": [
    {
     "name": "stdout",
     "output_type": "stream",
     "text": [
      "int64\n"
     ]
    }
   ],
   "execution_count": 3
  },
  {
   "metadata": {
    "ExecuteTime": {
     "end_time": "2024-10-11T14:25:48.518505Z",
     "start_time": "2024-10-11T14:25:48.515162Z"
    }
   },
   "cell_type": "code",
   "source": [
    "A = A.astype(np.float64)\n",
    "print(A)\n",
    "print(A.dtype)"
   ],
   "id": "e522c97c0e367fcb",
   "outputs": [
    {
     "name": "stdout",
     "output_type": "stream",
     "text": [
      "[[1. 2.]\n",
      " [3. 4.]]\n",
      "float64\n"
     ]
    }
   ],
   "execution_count": 5
  },
  {
   "metadata": {},
   "cell_type": "code",
   "outputs": [],
   "execution_count": null,
   "source": "",
   "id": "1171eaa0a3a11f3b"
  }
 ],
 "metadata": {
  "kernelspec": {
   "display_name": "Python 3",
   "language": "python",
   "name": "python3"
  },
  "language_info": {
   "codemirror_mode": {
    "name": "ipython",
    "version": 2
   },
   "file_extension": ".py",
   "mimetype": "text/x-python",
   "name": "python",
   "nbconvert_exporter": "python",
   "pygments_lexer": "ipython2",
   "version": "2.7.6"
  }
 },
 "nbformat": 4,
 "nbformat_minor": 5
}
