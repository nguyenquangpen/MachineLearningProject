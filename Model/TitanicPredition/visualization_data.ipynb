{
 "cells": [
  {
   "metadata": {
    "ExecuteTime": {
     "end_time": "2024-10-05T09:42:32.707173Z",
     "start_time": "2024-10-05T09:42:31.720637Z"
    }
   },
   "cell_type": "code",
   "source": [
    "import pandas as pd\n",
    "import numpy as np"
   ],
   "id": "72a51335a115fa8c",
   "outputs": [],
   "execution_count": 1
  },
  {
   "cell_type": "code",
   "id": "initial_id",
   "metadata": {
    "collapsed": true,
    "ExecuteTime": {
     "end_time": "2024-10-05T17:01:09.505360Z",
     "start_time": "2024-10-05T17:01:09.499266Z"
    }
   },
   "source": "train_df = pd.read_csv(\"D:/Academic/lap-trinh/Project/PycharmProject/MachineLearningProject/Model/TitanicPredition/train.csv\")",
   "outputs": [],
   "execution_count": 169
  },
  {
   "metadata": {},
   "cell_type": "markdown",
   "source": [
    "- first choice we can see all information about data in file titanic_train.html\n",
    "- review data by file\n"
   ],
   "id": "6a5cae5256597092"
  },
  {
   "metadata": {},
   "cell_type": "code",
   "outputs": [],
   "execution_count": null,
   "source": [
    "# from ydata_profiling import ProfileReport\n",
    "# profile = ProfileReport(train_df, title = 'titanic_train_report')\n",
    "# profile.to_file('titanic_train.html')"
   ],
   "id": "f8c8827f33d615c6"
  },
  {
   "metadata": {},
   "cell_type": "markdown",
   "source": "# review Data",
   "id": "e2783a9e3b0f1d59"
  },
  {
   "metadata": {},
   "cell_type": "markdown",
   "source": [
    "- second choice we can see by creating\n",
    "- review data by creating"
   ],
   "id": "bc3f0e0f33f37d4e"
  },
  {
   "metadata": {
    "ExecuteTime": {
     "end_time": "2024-10-05T09:48:29.246500Z",
     "start_time": "2024-10-05T09:48:29.232439Z"
    }
   },
   "cell_type": "code",
   "source": "train_df.head()",
   "id": "58f9a24f7d87339a",
   "outputs": [
    {
     "data": {
      "text/plain": [
       "   PassengerId  Survived  Pclass  \\\n",
       "0            1         0       3   \n",
       "1            2         1       1   \n",
       "2            3         1       3   \n",
       "3            4         1       1   \n",
       "4            5         0       3   \n",
       "\n",
       "                                                Name     Sex   Age  SibSp  \\\n",
       "0                            Braund, Mr. Owen Harris    male  22.0      1   \n",
       "1  Cumings, Mrs. John Bradley (Florence Briggs Th...  female  38.0      1   \n",
       "2                             Heikkinen, Miss. Laina  female  26.0      0   \n",
       "3       Futrelle, Mrs. Jacques Heath (Lily May Peel)  female  35.0      1   \n",
       "4                           Allen, Mr. William Henry    male  35.0      0   \n",
       "\n",
       "   Parch            Ticket     Fare Cabin Embarked  \n",
       "0      0         A/5 21171   7.2500   NaN        S  \n",
       "1      0          PC 17599  71.2833   C85        C  \n",
       "2      0  STON/O2. 3101282   7.9250   NaN        S  \n",
       "3      0            113803  53.1000  C123        S  \n",
       "4      0            373450   8.0500   NaN        S  "
      ],
      "text/html": [
       "<div>\n",
       "<style scoped>\n",
       "    .dataframe tbody tr th:only-of-type {\n",
       "        vertical-align: middle;\n",
       "    }\n",
       "\n",
       "    .dataframe tbody tr th {\n",
       "        vertical-align: top;\n",
       "    }\n",
       "\n",
       "    .dataframe thead th {\n",
       "        text-align: right;\n",
       "    }\n",
       "</style>\n",
       "<table border=\"1\" class=\"dataframe\">\n",
       "  <thead>\n",
       "    <tr style=\"text-align: right;\">\n",
       "      <th></th>\n",
       "      <th>PassengerId</th>\n",
       "      <th>Survived</th>\n",
       "      <th>Pclass</th>\n",
       "      <th>Name</th>\n",
       "      <th>Sex</th>\n",
       "      <th>Age</th>\n",
       "      <th>SibSp</th>\n",
       "      <th>Parch</th>\n",
       "      <th>Ticket</th>\n",
       "      <th>Fare</th>\n",
       "      <th>Cabin</th>\n",
       "      <th>Embarked</th>\n",
       "    </tr>\n",
       "  </thead>\n",
       "  <tbody>\n",
       "    <tr>\n",
       "      <th>0</th>\n",
       "      <td>1</td>\n",
       "      <td>0</td>\n",
       "      <td>3</td>\n",
       "      <td>Braund, Mr. Owen Harris</td>\n",
       "      <td>male</td>\n",
       "      <td>22.0</td>\n",
       "      <td>1</td>\n",
       "      <td>0</td>\n",
       "      <td>A/5 21171</td>\n",
       "      <td>7.2500</td>\n",
       "      <td>NaN</td>\n",
       "      <td>S</td>\n",
       "    </tr>\n",
       "    <tr>\n",
       "      <th>1</th>\n",
       "      <td>2</td>\n",
       "      <td>1</td>\n",
       "      <td>1</td>\n",
       "      <td>Cumings, Mrs. John Bradley (Florence Briggs Th...</td>\n",
       "      <td>female</td>\n",
       "      <td>38.0</td>\n",
       "      <td>1</td>\n",
       "      <td>0</td>\n",
       "      <td>PC 17599</td>\n",
       "      <td>71.2833</td>\n",
       "      <td>C85</td>\n",
       "      <td>C</td>\n",
       "    </tr>\n",
       "    <tr>\n",
       "      <th>2</th>\n",
       "      <td>3</td>\n",
       "      <td>1</td>\n",
       "      <td>3</td>\n",
       "      <td>Heikkinen, Miss. Laina</td>\n",
       "      <td>female</td>\n",
       "      <td>26.0</td>\n",
       "      <td>0</td>\n",
       "      <td>0</td>\n",
       "      <td>STON/O2. 3101282</td>\n",
       "      <td>7.9250</td>\n",
       "      <td>NaN</td>\n",
       "      <td>S</td>\n",
       "    </tr>\n",
       "    <tr>\n",
       "      <th>3</th>\n",
       "      <td>4</td>\n",
       "      <td>1</td>\n",
       "      <td>1</td>\n",
       "      <td>Futrelle, Mrs. Jacques Heath (Lily May Peel)</td>\n",
       "      <td>female</td>\n",
       "      <td>35.0</td>\n",
       "      <td>1</td>\n",
       "      <td>0</td>\n",
       "      <td>113803</td>\n",
       "      <td>53.1000</td>\n",
       "      <td>C123</td>\n",
       "      <td>S</td>\n",
       "    </tr>\n",
       "    <tr>\n",
       "      <th>4</th>\n",
       "      <td>5</td>\n",
       "      <td>0</td>\n",
       "      <td>3</td>\n",
       "      <td>Allen, Mr. William Henry</td>\n",
       "      <td>male</td>\n",
       "      <td>35.0</td>\n",
       "      <td>0</td>\n",
       "      <td>0</td>\n",
       "      <td>373450</td>\n",
       "      <td>8.0500</td>\n",
       "      <td>NaN</td>\n",
       "      <td>S</td>\n",
       "    </tr>\n",
       "  </tbody>\n",
       "</table>\n",
       "</div>"
      ]
     },
     "execution_count": 5,
     "metadata": {},
     "output_type": "execute_result"
    }
   ],
   "execution_count": 5
  },
  {
   "metadata": {},
   "cell_type": "markdown",
   "source": "The results show that the first and second columns are only used for passenger identification. So we can ignore this and merge them together. ",
   "id": "fd309d3aec96d2c0"
  },
  {
   "metadata": {
    "ExecuteTime": {
     "end_time": "2024-10-05T16:49:16.731564Z",
     "start_time": "2024-10-05T16:49:16.723611Z"
    }
   },
   "cell_type": "code",
   "source": [
    "train_df.drop('PassengerId', axis=1, inplace=True)\n",
    "train_df.head(3)"
   ],
   "id": "4562c05768b3bf4a",
   "outputs": [
    {
     "data": {
      "text/plain": [
       "   Survived  Pclass                                               Name  \\\n",
       "0         0       3                            Braund, Mr. Owen Harris   \n",
       "1         1       1  Cumings, Mrs. John Bradley (Florence Briggs Th...   \n",
       "2         1       3                             Heikkinen, Miss. Laina   \n",
       "\n",
       "      Sex   Age  SibSp  Parch            Ticket     Fare Cabin Embarked  \n",
       "0    male  22.0      1      0         A/5 21171   7.2500   NaN        S  \n",
       "1  female  38.0      1      0          PC 17599  71.2833   C85        C  \n",
       "2  female  26.0      0      0  STON/O2. 3101282   7.9250   NaN        S  "
      ],
      "text/html": [
       "<div>\n",
       "<style scoped>\n",
       "    .dataframe tbody tr th:only-of-type {\n",
       "        vertical-align: middle;\n",
       "    }\n",
       "\n",
       "    .dataframe tbody tr th {\n",
       "        vertical-align: top;\n",
       "    }\n",
       "\n",
       "    .dataframe thead th {\n",
       "        text-align: right;\n",
       "    }\n",
       "</style>\n",
       "<table border=\"1\" class=\"dataframe\">\n",
       "  <thead>\n",
       "    <tr style=\"text-align: right;\">\n",
       "      <th></th>\n",
       "      <th>Survived</th>\n",
       "      <th>Pclass</th>\n",
       "      <th>Name</th>\n",
       "      <th>Sex</th>\n",
       "      <th>Age</th>\n",
       "      <th>SibSp</th>\n",
       "      <th>Parch</th>\n",
       "      <th>Ticket</th>\n",
       "      <th>Fare</th>\n",
       "      <th>Cabin</th>\n",
       "      <th>Embarked</th>\n",
       "    </tr>\n",
       "  </thead>\n",
       "  <tbody>\n",
       "    <tr>\n",
       "      <th>0</th>\n",
       "      <td>0</td>\n",
       "      <td>3</td>\n",
       "      <td>Braund, Mr. Owen Harris</td>\n",
       "      <td>male</td>\n",
       "      <td>22.0</td>\n",
       "      <td>1</td>\n",
       "      <td>0</td>\n",
       "      <td>A/5 21171</td>\n",
       "      <td>7.2500</td>\n",
       "      <td>NaN</td>\n",
       "      <td>S</td>\n",
       "    </tr>\n",
       "    <tr>\n",
       "      <th>1</th>\n",
       "      <td>1</td>\n",
       "      <td>1</td>\n",
       "      <td>Cumings, Mrs. John Bradley (Florence Briggs Th...</td>\n",
       "      <td>female</td>\n",
       "      <td>38.0</td>\n",
       "      <td>1</td>\n",
       "      <td>0</td>\n",
       "      <td>PC 17599</td>\n",
       "      <td>71.2833</td>\n",
       "      <td>C85</td>\n",
       "      <td>C</td>\n",
       "    </tr>\n",
       "    <tr>\n",
       "      <th>2</th>\n",
       "      <td>1</td>\n",
       "      <td>3</td>\n",
       "      <td>Heikkinen, Miss. Laina</td>\n",
       "      <td>female</td>\n",
       "      <td>26.0</td>\n",
       "      <td>0</td>\n",
       "      <td>0</td>\n",
       "      <td>STON/O2. 3101282</td>\n",
       "      <td>7.9250</td>\n",
       "      <td>NaN</td>\n",
       "      <td>S</td>\n",
       "    </tr>\n",
       "  </tbody>\n",
       "</table>\n",
       "</div>"
      ]
     },
     "execution_count": 156,
     "metadata": {},
     "output_type": "execute_result"
    }
   ],
   "execution_count": 156
  },
  {
   "metadata": {},
   "cell_type": "markdown",
   "source": "similar to test_df",
   "id": "69030d65015c08e9"
  },
  {
   "metadata": {
    "ExecuteTime": {
     "end_time": "2024-10-05T17:01:13.307034Z",
     "start_time": "2024-10-05T17:01:13.299131Z"
    }
   },
   "cell_type": "code",
   "source": [
    "test_df = pd.read_csv(\"D:/Academic/lap-trinh/Project/PycharmProject/MachineLearningProject/Model/TitanicPredition/test.csv\", index_col='PassengerId')\n",
    "test_df.head(3)"
   ],
   "id": "a27a43600072b390",
   "outputs": [
    {
     "data": {
      "text/plain": [
       "             Pclass                              Name     Sex   Age  SibSp  \\\n",
       "PassengerId                                                                  \n",
       "892               3                  Kelly, Mr. James    male  34.5      0   \n",
       "893               3  Wilkes, Mrs. James (Ellen Needs)  female  47.0      1   \n",
       "894               2         Myles, Mr. Thomas Francis    male  62.0      0   \n",
       "\n",
       "             Parch  Ticket    Fare Cabin Embarked  \n",
       "PassengerId                                        \n",
       "892              0  330911  7.8292   NaN        Q  \n",
       "893              0  363272  7.0000   NaN        S  \n",
       "894              0  240276  9.6875   NaN        Q  "
      ],
      "text/html": [
       "<div>\n",
       "<style scoped>\n",
       "    .dataframe tbody tr th:only-of-type {\n",
       "        vertical-align: middle;\n",
       "    }\n",
       "\n",
       "    .dataframe tbody tr th {\n",
       "        vertical-align: top;\n",
       "    }\n",
       "\n",
       "    .dataframe thead th {\n",
       "        text-align: right;\n",
       "    }\n",
       "</style>\n",
       "<table border=\"1\" class=\"dataframe\">\n",
       "  <thead>\n",
       "    <tr style=\"text-align: right;\">\n",
       "      <th></th>\n",
       "      <th>Pclass</th>\n",
       "      <th>Name</th>\n",
       "      <th>Sex</th>\n",
       "      <th>Age</th>\n",
       "      <th>SibSp</th>\n",
       "      <th>Parch</th>\n",
       "      <th>Ticket</th>\n",
       "      <th>Fare</th>\n",
       "      <th>Cabin</th>\n",
       "      <th>Embarked</th>\n",
       "    </tr>\n",
       "    <tr>\n",
       "      <th>PassengerId</th>\n",
       "      <th></th>\n",
       "      <th></th>\n",
       "      <th></th>\n",
       "      <th></th>\n",
       "      <th></th>\n",
       "      <th></th>\n",
       "      <th></th>\n",
       "      <th></th>\n",
       "      <th></th>\n",
       "      <th></th>\n",
       "    </tr>\n",
       "  </thead>\n",
       "  <tbody>\n",
       "    <tr>\n",
       "      <th>892</th>\n",
       "      <td>3</td>\n",
       "      <td>Kelly, Mr. James</td>\n",
       "      <td>male</td>\n",
       "      <td>34.5</td>\n",
       "      <td>0</td>\n",
       "      <td>0</td>\n",
       "      <td>330911</td>\n",
       "      <td>7.8292</td>\n",
       "      <td>NaN</td>\n",
       "      <td>Q</td>\n",
       "    </tr>\n",
       "    <tr>\n",
       "      <th>893</th>\n",
       "      <td>3</td>\n",
       "      <td>Wilkes, Mrs. James (Ellen Needs)</td>\n",
       "      <td>female</td>\n",
       "      <td>47.0</td>\n",
       "      <td>1</td>\n",
       "      <td>0</td>\n",
       "      <td>363272</td>\n",
       "      <td>7.0000</td>\n",
       "      <td>NaN</td>\n",
       "      <td>S</td>\n",
       "    </tr>\n",
       "    <tr>\n",
       "      <th>894</th>\n",
       "      <td>2</td>\n",
       "      <td>Myles, Mr. Thomas Francis</td>\n",
       "      <td>male</td>\n",
       "      <td>62.0</td>\n",
       "      <td>0</td>\n",
       "      <td>0</td>\n",
       "      <td>240276</td>\n",
       "      <td>9.6875</td>\n",
       "      <td>NaN</td>\n",
       "      <td>Q</td>\n",
       "    </tr>\n",
       "  </tbody>\n",
       "</table>\n",
       "</div>"
      ]
     },
     "execution_count": 170,
     "metadata": {},
     "output_type": "execute_result"
    }
   ],
   "execution_count": 170
  },
  {
   "metadata": {
    "ExecuteTime": {
     "end_time": "2024-10-05T10:00:55.066351Z",
     "start_time": "2024-10-05T10:00:55.060482Z"
    }
   },
   "cell_type": "code",
   "source": "train_df.info()",
   "id": "c90271844c665639",
   "outputs": [
    {
     "name": "stdout",
     "output_type": "stream",
     "text": [
      "<class 'pandas.core.frame.DataFrame'>\n",
      "RangeIndex: 891 entries, 0 to 890\n",
      "Data columns (total 11 columns):\n",
      " #   Column    Non-Null Count  Dtype  \n",
      "---  ------    --------------  -----  \n",
      " 0   Survived  891 non-null    int64  \n",
      " 1   Pclass    891 non-null    int64  \n",
      " 2   Name      891 non-null    object \n",
      " 3   Sex       891 non-null    object \n",
      " 4   Age       714 non-null    float64\n",
      " 5   SibSp     891 non-null    int64  \n",
      " 6   Parch     891 non-null    int64  \n",
      " 7   Ticket    891 non-null    object \n",
      " 8   Fare      891 non-null    float64\n",
      " 9   Cabin     204 non-null    object \n",
      " 10  Embarked  889 non-null    object \n",
      "dtypes: float64(2), int64(4), object(5)\n",
      "memory usage: 76.7+ KB\n"
     ]
    }
   ],
   "execution_count": 10
  },
  {
   "metadata": {},
   "cell_type": "markdown",
   "source": "According to this data column like ['Survived', 'Pclass', 'Sex', 'SibSp', 'Parch'] the data seems to be Categorical type so we need to change this for improve performance of model",
   "id": "47f326311f0e6c17"
  },
  {
   "metadata": {
    "ExecuteTime": {
     "end_time": "2024-10-05T17:01:17.616442Z",
     "start_time": "2024-10-05T17:01:17.609699Z"
    }
   },
   "cell_type": "code",
   "source": [
    "# because test_df don't have Survived column so we do this for train data\n",
    "train_df['Survived'] = train_df['Survived'].astype('category')\n",
    "# other have in both data\n",
    "features = ['Pclass', 'Sex', 'SibSp', 'Parch']\n",
    "def convert_data(df, features):\n",
    "    for ft in features:\n",
    "        df[ft] = df[ft].astype('category')\n",
    "convert_data(train_df, features)\n",
    "convert_data(test_df, features)"
   ],
   "id": "f123e05bc0312c35",
   "outputs": [],
   "execution_count": 171
  },
  {
   "metadata": {
    "ExecuteTime": {
     "end_time": "2024-10-05T10:16:02.321312Z",
     "start_time": "2024-10-05T10:16:02.312705Z"
    }
   },
   "cell_type": "code",
   "source": "train_df.info()",
   "id": "44b90c64f1a0457d",
   "outputs": [
    {
     "name": "stdout",
     "output_type": "stream",
     "text": [
      "<class 'pandas.core.frame.DataFrame'>\n",
      "RangeIndex: 891 entries, 0 to 890\n",
      "Data columns (total 11 columns):\n",
      " #   Column    Non-Null Count  Dtype   \n",
      "---  ------    --------------  -----   \n",
      " 0   Survived  891 non-null    category\n",
      " 1   Pclass    891 non-null    category\n",
      " 2   Name      891 non-null    object  \n",
      " 3   Sex       891 non-null    category\n",
      " 4   Age       714 non-null    float64 \n",
      " 5   SibSp     891 non-null    category\n",
      " 6   Parch     891 non-null    category\n",
      " 7   Ticket    891 non-null    object  \n",
      " 8   Fare      891 non-null    float64 \n",
      " 9   Cabin     204 non-null    object  \n",
      " 10  Embarked  889 non-null    object  \n",
      "dtypes: category(5), float64(2), object(4)\n",
      "memory usage: 47.3+ KB\n"
     ]
    }
   ],
   "execution_count": 15
  },
  {
   "metadata": {},
   "cell_type": "markdown",
   "source": "Distribution of Categorical feature ",
   "id": "c34a479f1f6a8781"
  },
  {
   "metadata": {
    "ExecuteTime": {
     "end_time": "2024-10-05T10:18:07.276787Z",
     "start_time": "2024-10-05T10:18:07.267464Z"
    }
   },
   "cell_type": "code",
   "source": "train_df.describe(include=['category'])",
   "id": "bc61c9b46957239f",
   "outputs": [
    {
     "data": {
      "text/plain": [
       "        Survived  Pclass   Sex  SibSp  Parch\n",
       "count        891     891   891    891    891\n",
       "unique         2       3     2      7      7\n",
       "top            0       3  male      0      0\n",
       "freq         549     491   577    608    678"
      ],
      "text/html": [
       "<div>\n",
       "<style scoped>\n",
       "    .dataframe tbody tr th:only-of-type {\n",
       "        vertical-align: middle;\n",
       "    }\n",
       "\n",
       "    .dataframe tbody tr th {\n",
       "        vertical-align: top;\n",
       "    }\n",
       "\n",
       "    .dataframe thead th {\n",
       "        text-align: right;\n",
       "    }\n",
       "</style>\n",
       "<table border=\"1\" class=\"dataframe\">\n",
       "  <thead>\n",
       "    <tr style=\"text-align: right;\">\n",
       "      <th></th>\n",
       "      <th>Survived</th>\n",
       "      <th>Pclass</th>\n",
       "      <th>Sex</th>\n",
       "      <th>SibSp</th>\n",
       "      <th>Parch</th>\n",
       "    </tr>\n",
       "  </thead>\n",
       "  <tbody>\n",
       "    <tr>\n",
       "      <th>count</th>\n",
       "      <td>891</td>\n",
       "      <td>891</td>\n",
       "      <td>891</td>\n",
       "      <td>891</td>\n",
       "      <td>891</td>\n",
       "    </tr>\n",
       "    <tr>\n",
       "      <th>unique</th>\n",
       "      <td>2</td>\n",
       "      <td>3</td>\n",
       "      <td>2</td>\n",
       "      <td>7</td>\n",
       "      <td>7</td>\n",
       "    </tr>\n",
       "    <tr>\n",
       "      <th>top</th>\n",
       "      <td>0</td>\n",
       "      <td>3</td>\n",
       "      <td>male</td>\n",
       "      <td>0</td>\n",
       "      <td>0</td>\n",
       "    </tr>\n",
       "    <tr>\n",
       "      <th>freq</th>\n",
       "      <td>549</td>\n",
       "      <td>491</td>\n",
       "      <td>577</td>\n",
       "      <td>608</td>\n",
       "      <td>678</td>\n",
       "    </tr>\n",
       "  </tbody>\n",
       "</table>\n",
       "</div>"
      ]
     },
     "execution_count": 16,
     "metadata": {},
     "output_type": "execute_result"
    }
   ],
   "execution_count": 16
  },
  {
   "metadata": {},
   "cell_type": "markdown",
   "source": "# Exploratory Data",
   "id": "fcdb739f5529c485"
  },
  {
   "metadata": {
    "ExecuteTime": {
     "end_time": "2024-10-05T10:33:56.003935Z",
     "start_time": "2024-10-05T10:33:55.939596Z"
    }
   },
   "cell_type": "code",
   "source": [
    "%matplotlib inline\n",
    "import matplotlib.pyplot as plt\n",
    "import seaborn as sns"
   ],
   "id": "77fa218554fb1858",
   "outputs": [],
   "execution_count": 26
  },
  {
   "metadata": {
    "ExecuteTime": {
     "end_time": "2024-10-05T10:24:52.849469Z",
     "start_time": "2024-10-05T10:24:52.841376Z"
    }
   },
   "cell_type": "code",
   "source": "train_df['Survived'].value_counts(normalize=True).to_frame()",
   "id": "954e554c5180550c",
   "outputs": [
    {
     "data": {
      "text/plain": [
       "          proportion\n",
       "Survived            \n",
       "0           0.616162\n",
       "1           0.383838"
      ],
      "text/html": [
       "<div>\n",
       "<style scoped>\n",
       "    .dataframe tbody tr th:only-of-type {\n",
       "        vertical-align: middle;\n",
       "    }\n",
       "\n",
       "    .dataframe tbody tr th {\n",
       "        vertical-align: top;\n",
       "    }\n",
       "\n",
       "    .dataframe thead th {\n",
       "        text-align: right;\n",
       "    }\n",
       "</style>\n",
       "<table border=\"1\" class=\"dataframe\">\n",
       "  <thead>\n",
       "    <tr style=\"text-align: right;\">\n",
       "      <th></th>\n",
       "      <th>proportion</th>\n",
       "    </tr>\n",
       "    <tr>\n",
       "      <th>Survived</th>\n",
       "      <th></th>\n",
       "    </tr>\n",
       "  </thead>\n",
       "  <tbody>\n",
       "    <tr>\n",
       "      <th>0</th>\n",
       "      <td>0.616162</td>\n",
       "    </tr>\n",
       "    <tr>\n",
       "      <th>1</th>\n",
       "      <td>0.383838</td>\n",
       "    </tr>\n",
       "  </tbody>\n",
       "</table>\n",
       "</div>"
      ]
     },
     "execution_count": 17,
     "metadata": {},
     "output_type": "execute_result"
    }
   ],
   "execution_count": 17
  },
  {
   "metadata": {},
   "cell_type": "markdown",
   "source": "Only 38% survived so the training data is data imbalanced but not that important to use data balancing tools",
   "id": "8f41cb45addd24bb"
  },
  {
   "metadata": {},
   "cell_type": "markdown",
   "source": "# sex",
   "id": "51ae2400824a37ef"
  },
  {
   "metadata": {
    "ExecuteTime": {
     "end_time": "2024-10-05T10:31:17.997238Z",
     "start_time": "2024-10-05T10:31:17.991921Z"
    }
   },
   "cell_type": "code",
   "source": "train_df['Sex'].value_counts().to_frame()",
   "id": "f3f657ed9a7b6d5e",
   "outputs": [
    {
     "data": {
      "text/plain": [
       "        count\n",
       "Sex          \n",
       "male      577\n",
       "female    314"
      ],
      "text/html": [
       "<div>\n",
       "<style scoped>\n",
       "    .dataframe tbody tr th:only-of-type {\n",
       "        vertical-align: middle;\n",
       "    }\n",
       "\n",
       "    .dataframe tbody tr th {\n",
       "        vertical-align: top;\n",
       "    }\n",
       "\n",
       "    .dataframe thead th {\n",
       "        text-align: right;\n",
       "    }\n",
       "</style>\n",
       "<table border=\"1\" class=\"dataframe\">\n",
       "  <thead>\n",
       "    <tr style=\"text-align: right;\">\n",
       "      <th></th>\n",
       "      <th>count</th>\n",
       "    </tr>\n",
       "    <tr>\n",
       "      <th>Sex</th>\n",
       "      <th></th>\n",
       "    </tr>\n",
       "  </thead>\n",
       "  <tbody>\n",
       "    <tr>\n",
       "      <th>male</th>\n",
       "      <td>577</td>\n",
       "    </tr>\n",
       "    <tr>\n",
       "      <th>female</th>\n",
       "      <td>314</td>\n",
       "    </tr>\n",
       "  </tbody>\n",
       "</table>\n",
       "</div>"
      ]
     },
     "execution_count": 20,
     "metadata": {},
     "output_type": "execute_result"
    }
   ],
   "execution_count": 20
  },
  {
   "metadata": {
    "ExecuteTime": {
     "end_time": "2024-10-05T10:33:59.895098Z",
     "start_time": "2024-10-05T10:33:59.825298Z"
    }
   },
   "cell_type": "code",
   "source": [
    "sns.countplot(data=train_df, x = 'Sex', hue='Survived', palette='Blues');\n",
    "plt.show()"
   ],
   "id": "fe44509ccc585a0c",
   "outputs": [
    {
     "data": {
      "text/plain": [
       "<Figure size 640x480 with 1 Axes>"
      ],
      "image/png": "[encoded data removed]"
     },
     "metadata": {},
     "output_type": "display_data"
    }
   ],
   "execution_count": 27
  },
  {
   "metadata": {},
   "cell_type": "markdown",
   "source": "As the result we can see the survival rate of female higher than male but what about the age? Does it have any effect on this rate?",
   "id": "8036f1bd907bda12"
  },
  {
   "metadata": {},
   "cell_type": "markdown",
   "source": "# Age",
   "id": "1960325870ee8be"
  },
  {
   "metadata": {
    "ExecuteTime": {
     "end_time": "2024-10-05T10:43:48.120879Z",
     "start_time": "2024-10-05T10:43:47.701056Z"
    }
   },
   "cell_type": "code",
   "source": [
    "g = sns.FacetGrid(data=train_df, col='Sex', hue='Survived', height=5, aspect=1.5)\n",
    "g.map(sns.histplot, 'Age', bins=40, kde = True)\n",
    "\n",
    "g.add_legend()\n",
    "plt.show()"
   ],
   "id": "95ad3b3c0d6d5b93",
   "outputs": [
    {
     "data": {
      "text/plain": [
       "<Figure size 1572.11x500 with 2 Axes>"
      ],
      "image/png": "[encoded data removed]"
     },
     "metadata": {},
     "output_type": "display_data"
    }
   ],
   "execution_count": 32
  },
  {
   "metadata": {},
   "cell_type": "markdown",
   "source": "As a result, most women of all ages have higher survival rates than men. Only male children have high survival ",
   "id": "d2cebf1f2f445871"
  },
  {
   "metadata": {
    "ExecuteTime": {
     "end_time": "2024-10-05T11:04:42.126950Z",
     "start_time": "2024-10-05T11:04:41.492811Z"
    }
   },
   "cell_type": "code",
   "source": [
    "cols = ['Embarked', 'Pclass', 'SibSp', 'Parch']\n",
    "n_rows = 1\n",
    "n_cols = 4\n",
    "\n",
    "fig, ax = plt.subplots(n_rows, n_cols, figsize=(n_cols*3.5, n_rows*2.5))\n",
    "\n",
    "for i in range(n_cols):\n",
    "    sns.countplot(data=train_df, x=cols[i], hue='Survived', palette='Blues', ax=ax[i])\n",
    "    ax[i].legend(title='', loc='upper right', labels=['Not Survived', 'Survived'])\n",
    "\n",
    "plt.tight_layout()\n",
    "plt.show()"
   ],
   "id": "ec45a1f320d473e9",
   "outputs": [
    {
     "data": {
      "text/plain": [
       "<Figure size 1400x250 with 4 Axes>"
      ],
      "image/png": "[encoded data removed]"
     },
     "metadata": {},
     "output_type": "display_data"
    }
   ],
   "execution_count": 43
  },
  {
   "metadata": {},
   "cell_type": "markdown",
   "source": [
    "This shows the results of Survival Rate with other columns\n",
    "  - Most of the people embarkation the Southampton did not survive.\n",
    "  - Pclass 1 has highest survival rate\n",
    "  - people with 1-2 family member has better survival rate than 0 sibsp and others\n",
    "  - people with 0 mostly do not survive\n"
   ],
   "id": "d9f2e9e442a0c9f7"
  },
  {
   "metadata": {},
   "cell_type": "markdown",
   "source": "# Fare",
   "id": "92213635f11140e4"
  },
  {
   "metadata": {
    "ExecuteTime": {
     "end_time": "2024-10-05T11:11:10.112716Z",
     "start_time": "2024-10-05T11:11:10.105404Z"
    }
   },
   "cell_type": "code",
   "source": "train_df['Fare'].describe()",
   "id": "bf46c0e5f6a037b",
   "outputs": [
    {
     "data": {
      "text/plain": [
       "count    891.000000\n",
       "mean      32.204208\n",
       "std       49.693429\n",
       "min        0.000000\n",
       "25%        7.910400\n",
       "50%       14.454200\n",
       "75%       31.000000\n",
       "max      512.329200\n",
       "Name: Fare, dtype: float64"
      ]
     },
     "execution_count": 44,
     "metadata": {},
     "output_type": "execute_result"
    }
   ],
   "execution_count": 44
  },
  {
   "metadata": {
    "ExecuteTime": {
     "end_time": "2024-10-05T17:01:31.490626Z",
     "start_time": "2024-10-05T17:01:31.372527Z"
    }
   },
   "cell_type": "code",
   "source": [
    "fare_category = ['economic', 'standard', 'expensive', 'luxury']\n",
    "data = pd.qcut(train_df['Fare'], 4, labels=fare_category)\n",
    "sns.countplot(x=data, hue=train_df['Survived'], palette='Blues');"
   ],
   "id": "43aa2635d1f9f32f",
   "outputs": [
    {
     "data": {
      "text/plain": [
       "<Figure size 640x480 with 1 Axes>"
      ],
      "image/png": "[encoded data removed]"
     },
     "metadata": {},
     "output_type": "display_data"
    }
   ],
   "execution_count": 172
  },
  {
   "metadata": {},
   "cell_type": "markdown",
   "source": "Those with premium tickets have the highest survival rate, followed by other ticket types in descending order.",
   "id": "6ad8f677162d6e4d"
  },
  {
   "metadata": {},
   "cell_type": "markdown",
   "source": "# Data visualization",
   "id": "cd7266c3577ab248"
  },
  {
   "metadata": {
    "ExecuteTime": {
     "end_time": "2024-10-05T11:18:26.700795Z",
     "start_time": "2024-10-05T11:18:26.696220Z"
    }
   },
   "cell_type": "code",
   "source": "train_df['Name'].tail()",
   "id": "21d376ab80fdd266",
   "outputs": [
    {
     "data": {
      "text/plain": [
       "886                       Montvila, Rev. Juozas\n",
       "887                Graham, Miss. Margaret Edith\n",
       "888    Johnston, Miss. Catherine Helen \"Carrie\"\n",
       "889                       Behr, Mr. Karl Howell\n",
       "890                         Dooley, Mr. Patrick\n",
       "Name: Name, dtype: object"
      ]
     },
     "execution_count": 48,
     "metadata": {},
     "output_type": "execute_result"
    }
   ],
   "execution_count": 48
  },
  {
   "metadata": {},
   "cell_type": "markdown",
   "source": "May be signal like Miss, Mr... can make important contributions to the model. So i will create this column",
   "id": "94575bbd2a8e166d"
  },
  {
   "metadata": {
    "ExecuteTime": {
     "end_time": "2024-10-05T17:01:35.111389Z",
     "start_time": "2024-10-05T17:01:35.106088Z"
    }
   },
   "cell_type": "code",
   "source": [
    "import re\n",
    "def filler_location(loc):\n",
    "    result = re.findall(r\",([\\w\\s]+)\\.\", loc)\n",
    "\n",
    "    if result:\n",
    "        return result[0].strip()\n",
    "    else:\n",
    "        return None \n",
    "train_df['title'] = train_df['Name'].apply(lambda name: filler_location(name))\n",
    "test_df['title'] = test_df['Name'].apply(lambda name: filler_location(name))"
   ],
   "id": "8387a1b12b299a29",
   "outputs": [],
   "execution_count": 173
  },
  {
   "metadata": {
    "ExecuteTime": {
     "end_time": "2024-10-05T16:49:57.945209Z",
     "start_time": "2024-10-05T16:49:57.940765Z"
    }
   },
   "cell_type": "code",
   "source": "train_df['title'].value_counts()",
   "id": "c36b1ebfecb217f5",
   "outputs": [
    {
     "data": {
      "text/plain": [
       "title\n",
       "Mr              517\n",
       "Miss            182\n",
       "Mrs             125\n",
       "Master           40\n",
       "Dr                7\n",
       "Rev               6\n",
       "Col               2\n",
       "Mlle              2\n",
       "Major             2\n",
       "Ms                1\n",
       "Mme               1\n",
       "Don               1\n",
       "Lady              1\n",
       "Sir               1\n",
       "Capt              1\n",
       "the Countess      1\n",
       "Jonkheer          1\n",
       "Name: count, dtype: int64"
      ]
     },
     "execution_count": 161,
     "metadata": {},
     "output_type": "execute_result"
    }
   ],
   "execution_count": 161
  },
  {
   "metadata": {},
   "cell_type": "markdown",
   "source": "Because there are so many titles with a count of 1, we need to group them to save space.",
   "id": "76f6114f6751ddee"
  },
  {
   "metadata": {
    "ExecuteTime": {
     "end_time": "2024-10-05T17:01:40.291613Z",
     "start_time": "2024-10-05T17:01:40.287719Z"
    }
   },
   "cell_type": "code",
   "source": [
    "def group_title(title):\n",
    "    if title in ['Mr', 'Miss', 'Mrs', 'Master']:\n",
    "        return title\n",
    "    elif title == 'MS':\n",
    "        return 'Miss'\n",
    "    else:\n",
    "        return 'Other'\n",
    "train_df['title'] = train_df['title'].apply(lambda title:group_title(title))\n",
    "test_df['title'] = test_df['title'].apply(lambda title:group_title(title))"
   ],
   "id": "5de904ecda42152d",
   "outputs": [],
   "execution_count": 174
  },
  {
   "metadata": {
    "ExecuteTime": {
     "end_time": "2024-10-05T11:46:04.334655Z",
     "start_time": "2024-10-05T11:46:04.247317Z"
    }
   },
   "cell_type": "code",
   "source": "sns.countplot(data=train_df, x='title', hue='Survived');",
   "id": "53f8e0313d9c332a",
   "outputs": [
    {
     "data": {
      "text/plain": [
       "<Figure size 640x480 with 1 Axes>"
      ],
      "image/png": "[encoded data removed]"
     },
     "metadata": {},
     "output_type": "display_data"
    }
   ],
   "execution_count": 62
  },
  {
   "metadata": {},
   "cell_type": "markdown",
   "source": "# Family",
   "id": "5ece57341a836df1"
  },
  {
   "metadata": {
    "ExecuteTime": {
     "end_time": "2024-10-05T17:01:43.091442Z",
     "start_time": "2024-10-05T17:01:43.085578Z"
    }
   },
   "cell_type": "code",
   "source": [
    "train_df['Family_size'] = train_df['SibSp'].astype('int') + train_df['Parch'].astype('int') + 1\n",
    "test_df['Family_size'] = test_df['SibSp'].astype('int') + test_df['Parch'].astype('int') + 1"
   ],
   "id": "5086f8b40e83da8e",
   "outputs": [],
   "execution_count": 175
  },
  {
   "metadata": {
    "ExecuteTime": {
     "end_time": "2024-10-05T17:01:43.590215Z",
     "start_time": "2024-10-05T17:01:43.585517Z"
    }
   },
   "cell_type": "code",
   "source": [
    "train_df['Family_cat'] = pd.cut(train_df['Family_size'], bins=[0, 1, 4, 6, 20], labels=['solo', 'small', 'medium', 'large'])\n",
    "test_df['Family_cat'] = pd.cut(test_df['Family_size'], bins=[0, 1, 4, 6, 20], labels=['solo', 'small', 'medium', 'large'])"
   ],
   "id": "f513a3fd1f2e0960",
   "outputs": [],
   "execution_count": 176
  },
  {
   "metadata": {
    "ExecuteTime": {
     "end_time": "2024-10-05T11:52:24.709262Z",
     "start_time": "2024-10-05T11:52:24.481512Z"
    }
   },
   "cell_type": "code",
   "source": "sns.countplot(data=train_df, x='Family_cat', hue='Survived')",
   "id": "df3b65ba2118159a",
   "outputs": [
    {
     "data": {
      "text/plain": [
       "<Axes: xlabel='Family_cat', ylabel='count'>"
      ]
     },
     "execution_count": 66,
     "metadata": {},
     "output_type": "execute_result"
    },
    {
     "data": {
      "text/plain": [
       "<Figure size 640x480 with 1 Axes>"
      ],
      "image/png": "[encoded data removed]"
     },
     "metadata": {},
     "output_type": "display_data"
    }
   ],
   "execution_count": 66
  },
  {
   "metadata": {},
   "cell_type": "markdown",
   "source": "The survival rate when traveling alone is very low while traveling with family is more promising.",
   "id": "ce9abc8047d631d5"
  },
  {
   "metadata": {},
   "cell_type": "markdown",
   "source": "# Data Wrangling",
   "id": "65f0a62a90f3db29"
  },
  {
   "metadata": {
    "ExecuteTime": {
     "end_time": "2024-10-05T12:15:14.475530Z",
     "start_time": "2024-10-05T12:15:14.468846Z"
    }
   },
   "cell_type": "code",
   "source": "train_df.info()",
   "id": "e98aa5c325323cbc",
   "outputs": [
    {
     "name": "stdout",
     "output_type": "stream",
     "text": [
      "<class 'pandas.core.frame.DataFrame'>\n",
      "RangeIndex: 891 entries, 0 to 890\n",
      "Data columns (total 14 columns):\n",
      " #   Column       Non-Null Count  Dtype   \n",
      "---  ------       --------------  -----   \n",
      " 0   Survived     891 non-null    category\n",
      " 1   Pclass       891 non-null    category\n",
      " 2   Name         891 non-null    object  \n",
      " 3   Sex          891 non-null    category\n",
      " 4   Age          714 non-null    float64 \n",
      " 5   SibSp        891 non-null    category\n",
      " 6   Parch        891 non-null    category\n",
      " 7   Ticket       891 non-null    object  \n",
      " 8   Fare         891 non-null    float64 \n",
      " 9   Cabin        204 non-null    object  \n",
      " 10  Embarked     889 non-null    object  \n",
      " 11  title        891 non-null    object  \n",
      " 12  Family_size  891 non-null    int64   \n",
      " 13  Family_cat   891 non-null    category\n",
      "dtypes: category(6), float64(2), int64(1), object(5)\n",
      "memory usage: 62.3+ KB\n"
     ]
    }
   ],
   "execution_count": 78
  },
  {
   "metadata": {
    "ExecuteTime": {
     "end_time": "2024-10-05T12:15:03.472948Z",
     "start_time": "2024-10-05T12:15:03.465018Z"
    }
   },
   "cell_type": "code",
   "source": [
    "print(train_df.isnull().sum()[train_df.isnull().sum()>0])\n",
    "print(test_df.isnull().sum()[test_df.isnull().sum()>0])"
   ],
   "id": "9f373fe421027c41",
   "outputs": [
    {
     "name": "stdout",
     "output_type": "stream",
     "text": [
      "Age         177\n",
      "Cabin       687\n",
      "Embarked      2\n",
      "dtype: int64\n",
      "Age       86\n",
      "Fare       1\n",
      "Cabin    327\n",
      "dtype: int64\n"
     ]
    }
   ],
   "execution_count": 77
  },
  {
   "metadata": {},
   "cell_type": "markdown",
   "source": "We can see have a lot of missing value is there columns",
   "id": "20d3fbdaef193350"
  },
  {
   "metadata": {},
   "cell_type": "markdown",
   "source": "We need to filling missing value",
   "id": "b8f3d8cff35d0f71"
  },
  {
   "metadata": {
    "ExecuteTime": {
     "end_time": "2024-10-05T17:45:53.539691Z",
     "start_time": "2024-10-05T17:45:53.519398Z"
    }
   },
   "cell_type": "code",
   "source": [
    "from sklearn.impute import SimpleImputer, KNNImputer\n",
    "from sklearn.pipeline import Pipeline\n",
    "from sklearn.preprocessing import OrdinalEncoder, OneHotEncoder, StandardScaler\n",
    "from sklearn.compose import ColumnTransformer\n",
    "import category_encoders as ce\n",
    "from sklearn.model_selection import train_test_split\n",
    "from lazypredict.Supervised import LazyClassifier\n",
    "from sklearn.tree import ExtraTreeClassifier\n",
    "from sklearn.model_selection import GridSearchCV\n",
    "from sklearn.metrics import classification_report"
   ],
   "id": "625b199934d13c39",
   "outputs": [],
   "execution_count": 221
  },
  {
   "metadata": {},
   "cell_type": "markdown",
   "source": "Embarked has few missing values so removing it has no effect on the model",
   "id": "17e46cfc0e37a080"
  },
  {
   "metadata": {
    "ExecuteTime": {
     "end_time": "2024-10-05T17:03:44.569150Z",
     "start_time": "2024-10-05T17:03:44.563860Z"
    }
   },
   "cell_type": "code",
   "source": "train_df.dropna(subset=['Embarked'], inplace=True)",
   "id": "1e06ed814db095d6",
   "outputs": [],
   "execution_count": 180
  },
  {
   "metadata": {},
   "cell_type": "markdown",
   "source": "We need to split the Cabin and Ticket column into numeric and letter.",
   "id": "e214c5681854c618"
  },
  {
   "metadata": {
    "ExecuteTime": {
     "end_time": "2024-10-05T17:01:48.615641Z",
     "start_time": "2024-10-05T17:01:48.605938Z"
    }
   },
   "cell_type": "code",
   "source": [
    "def extract_cabin_ticket_info(df):\n",
    "    # Extract Cabin information\n",
    "    df['Cabin_Letter'] = df['Cabin'].str.extract(r'([A-Z])')\n",
    "    df['Cabin_Number'] = df['Cabin'].str.extract(r'(\\d+)').astype(float)\n",
    "\n",
    "    # Extract Ticket information\n",
    "    df['Ticket_number'] = df['Ticket'].str.extract(r'(\\d+)').astype(float)\n",
    "    df['Ticket_Letter'] = df['Ticket'].str.extract(r'([A-Z])')\n",
    "\n",
    "    # Drop original Cabin and Ticket columns\n",
    "    df = df.drop(['Cabin', 'Ticket'], axis=1)\n",
    "    return df\n",
    "train_df = extract_cabin_ticket_info(train_df)\n",
    "test_df = extract_cabin_ticket_info(test_df)"
   ],
   "id": "f1750bd6d61f34b3",
   "outputs": [],
   "execution_count": 177
  },
  {
   "metadata": {},
   "cell_type": "markdown",
   "source": "After that filling missing value",
   "id": "90d380c45c8f467e"
  },
  {
   "metadata": {
    "ExecuteTime": {
     "end_time": "2024-10-05T17:02:17.030005Z",
     "start_time": "2024-10-05T17:02:17.019930Z"
    }
   },
   "cell_type": "code",
   "source": [
    "def impute_missing_values(df, columns):\n",
    "    # Create a pipeline for imputing missing values\n",
    "    pipeline = Pipeline(steps=[\n",
    "        ('imputer', SimpleImputer(strategy='most_frequent'))\n",
    "    ])\n",
    "    \n",
    "    df[columns] = pipeline.fit_transform(df[columns])\n",
    "    return df\n",
    "train_df = impute_missing_values(train_df, ['Age', 'Cabin_Letter', 'Ticket_Letter', 'Ticket_number'])\n",
    "test_df = impute_missing_values(test_df, ['Age', 'Cabin_Letter', 'Ticket_Letter', 'Ticket_number'])\n"
   ],
   "id": "ce7e90a0e5a1bc93",
   "outputs": [],
   "execution_count": 178
  },
  {
   "metadata": {},
   "cell_type": "markdown",
   "source": "After that we need check answer",
   "id": "43b9b52f36fca0f2"
  },
  {
   "metadata": {
    "ExecuteTime": {
     "end_time": "2024-10-05T17:03:48.272426Z",
     "start_time": "2024-10-05T17:03:48.265046Z"
    }
   },
   "cell_type": "code",
   "source": [
    "knn_imputer = KNNImputer(n_neighbors=10)\n",
    "train_df[['Cabin_Number', 'Ticket_number']] = knn_imputer.fit_transform(train_df[['Cabin_Number', 'Ticket_number']])\n",
    "test_df[['Cabin_Number', 'Ticket_number']] = knn_imputer.transform(test_df[['Cabin_Number', 'Ticket_number']])\n",
    "\n",
    "print(train_df.isnull().sum()[train_df.isnull().sum() > 0])"
   ],
   "id": "901f0db70c63bc89",
   "outputs": [
    {
     "name": "stdout",
     "output_type": "stream",
     "text": [
      "Series([], dtype: int64)\n"
     ]
    }
   ],
   "execution_count": 181
  },
  {
   "metadata": {},
   "cell_type": "markdown",
   "source": "",
   "id": "a4a8ec4be26d390d"
  },
  {
   "metadata": {
    "ExecuteTime": {
     "end_time": "2024-10-05T17:07:53.385293Z",
     "start_time": "2024-10-05T17:07:53.381846Z"
    }
   },
   "cell_type": "code",
   "source": [
    "x = train_df.drop('Survived', axis=1)\n",
    "y = train_df['Survived']"
   ],
   "id": "32d5d6f62eef95f",
   "outputs": [],
   "execution_count": 192
  },
  {
   "metadata": {},
   "cell_type": "markdown",
   "source": "As above, because we have merged 2 columns SibSp, Parch and Family_size to form Family_cat, I will remove those 2 columns.\n",
   "id": "5570556bd9cc02d4"
  },
  {
   "metadata": {},
   "cell_type": "markdown",
   "source": "We created title column to replace Name column so i will drop name columns too",
   "id": "8348a0f5bf44f1ef"
  },
  {
   "metadata": {
    "ExecuteTime": {
     "end_time": "2024-10-05T17:07:59.748954Z",
     "start_time": "2024-10-05T17:07:59.739475Z"
    }
   },
   "cell_type": "code",
   "source": [
    "x = x.drop(columns=['SibSp', 'Parch', 'Family_size', 'Name'], axis=1)\n",
    "x.head(10)"
   ],
   "id": "453b8b09fe1be021",
   "outputs": [
    {
     "data": {
      "text/plain": [
       "  Pclass     Sex   Age     Fare Embarked   title Family_cat Cabin_Letter  \\\n",
       "0      3    male  22.0   7.2500        S      Mr      small            C   \n",
       "1      1  female  38.0  71.2833        C     Mrs      small            C   \n",
       "2      3  female  26.0   7.9250        S    Miss       solo            C   \n",
       "3      1  female  35.0  53.1000        S     Mrs      small            C   \n",
       "4      3    male  35.0   8.0500        S      Mr       solo            C   \n",
       "5      3    male  24.0   8.4583        Q      Mr       solo            C   \n",
       "6      1    male  54.0  51.8625        S      Mr       solo            E   \n",
       "7      3    male   2.0  21.0750        S  Master     medium            C   \n",
       "8      3  female  27.0  11.1333        S     Mrs      small            C   \n",
       "9      2  female  14.0  30.0708        C     Mrs      small            C   \n",
       "\n",
       "   Cabin_Number  Ticket_number Ticket_Letter  \n",
       "0          37.7            5.0             A  \n",
       "1          85.0        17599.0             P  \n",
       "2          37.7            2.0             S  \n",
       "3         123.0       113803.0             P  \n",
       "4          54.4       373450.0             P  \n",
       "5          54.4       330877.0             P  \n",
       "6          46.0        17463.0             P  \n",
       "7          54.4       349909.0             P  \n",
       "8          54.4       347742.0             P  \n",
       "9          21.6       237736.0             P  "
      ],
      "text/html": [
       "<div>\n",
       "<style scoped>\n",
       "    .dataframe tbody tr th:only-of-type {\n",
       "        vertical-align: middle;\n",
       "    }\n",
       "\n",
       "    .dataframe tbody tr th {\n",
       "        vertical-align: top;\n",
       "    }\n",
       "\n",
       "    .dataframe thead th {\n",
       "        text-align: right;\n",
       "    }\n",
       "</style>\n",
       "<table border=\"1\" class=\"dataframe\">\n",
       "  <thead>\n",
       "    <tr style=\"text-align: right;\">\n",
       "      <th></th>\n",
       "      <th>Pclass</th>\n",
       "      <th>Sex</th>\n",
       "      <th>Age</th>\n",
       "      <th>Fare</th>\n",
       "      <th>Embarked</th>\n",
       "      <th>title</th>\n",
       "      <th>Family_cat</th>\n",
       "      <th>Cabin_Letter</th>\n",
       "      <th>Cabin_Number</th>\n",
       "      <th>Ticket_number</th>\n",
       "      <th>Ticket_Letter</th>\n",
       "    </tr>\n",
       "  </thead>\n",
       "  <tbody>\n",
       "    <tr>\n",
       "      <th>0</th>\n",
       "      <td>3</td>\n",
       "      <td>male</td>\n",
       "      <td>22.0</td>\n",
       "      <td>7.2500</td>\n",
       "      <td>S</td>\n",
       "      <td>Mr</td>\n",
       "      <td>small</td>\n",
       "      <td>C</td>\n",
       "      <td>37.7</td>\n",
       "      <td>5.0</td>\n",
       "      <td>A</td>\n",
       "    </tr>\n",
       "    <tr>\n",
       "      <th>1</th>\n",
       "      <td>1</td>\n",
       "      <td>female</td>\n",
       "      <td>38.0</td>\n",
       "      <td>71.2833</td>\n",
       "      <td>C</td>\n",
       "      <td>Mrs</td>\n",
       "      <td>small</td>\n",
       "      <td>C</td>\n",
       "      <td>85.0</td>\n",
       "      <td>17599.0</td>\n",
       "      <td>P</td>\n",
       "    </tr>\n",
       "    <tr>\n",
       "      <th>2</th>\n",
       "      <td>3</td>\n",
       "      <td>female</td>\n",
       "      <td>26.0</td>\n",
       "      <td>7.9250</td>\n",
       "      <td>S</td>\n",
       "      <td>Miss</td>\n",
       "      <td>solo</td>\n",
       "      <td>C</td>\n",
       "      <td>37.7</td>\n",
       "      <td>2.0</td>\n",
       "      <td>S</td>\n",
       "    </tr>\n",
       "    <tr>\n",
       "      <th>3</th>\n",
       "      <td>1</td>\n",
       "      <td>female</td>\n",
       "      <td>35.0</td>\n",
       "      <td>53.1000</td>\n",
       "      <td>S</td>\n",
       "      <td>Mrs</td>\n",
       "      <td>small</td>\n",
       "      <td>C</td>\n",
       "      <td>123.0</td>\n",
       "      <td>113803.0</td>\n",
       "      <td>P</td>\n",
       "    </tr>\n",
       "    <tr>\n",
       "      <th>4</th>\n",
       "      <td>3</td>\n",
       "      <td>male</td>\n",
       "      <td>35.0</td>\n",
       "      <td>8.0500</td>\n",
       "      <td>S</td>\n",
       "      <td>Mr</td>\n",
       "      <td>solo</td>\n",
       "      <td>C</td>\n",
       "      <td>54.4</td>\n",
       "      <td>373450.0</td>\n",
       "      <td>P</td>\n",
       "    </tr>\n",
       "    <tr>\n",
       "      <th>5</th>\n",
       "      <td>3</td>\n",
       "      <td>male</td>\n",
       "      <td>24.0</td>\n",
       "      <td>8.4583</td>\n",
       "      <td>Q</td>\n",
       "      <td>Mr</td>\n",
       "      <td>solo</td>\n",
       "      <td>C</td>\n",
       "      <td>54.4</td>\n",
       "      <td>330877.0</td>\n",
       "      <td>P</td>\n",
       "    </tr>\n",
       "    <tr>\n",
       "      <th>6</th>\n",
       "      <td>1</td>\n",
       "      <td>male</td>\n",
       "      <td>54.0</td>\n",
       "      <td>51.8625</td>\n",
       "      <td>S</td>\n",
       "      <td>Mr</td>\n",
       "      <td>solo</td>\n",
       "      <td>E</td>\n",
       "      <td>46.0</td>\n",
       "      <td>17463.0</td>\n",
       "      <td>P</td>\n",
       "    </tr>\n",
       "    <tr>\n",
       "      <th>7</th>\n",
       "      <td>3</td>\n",
       "      <td>male</td>\n",
       "      <td>2.0</td>\n",
       "      <td>21.0750</td>\n",
       "      <td>S</td>\n",
       "      <td>Master</td>\n",
       "      <td>medium</td>\n",
       "      <td>C</td>\n",
       "      <td>54.4</td>\n",
       "      <td>349909.0</td>\n",
       "      <td>P</td>\n",
       "    </tr>\n",
       "    <tr>\n",
       "      <th>8</th>\n",
       "      <td>3</td>\n",
       "      <td>female</td>\n",
       "      <td>27.0</td>\n",
       "      <td>11.1333</td>\n",
       "      <td>S</td>\n",
       "      <td>Mrs</td>\n",
       "      <td>small</td>\n",
       "      <td>C</td>\n",
       "      <td>54.4</td>\n",
       "      <td>347742.0</td>\n",
       "      <td>P</td>\n",
       "    </tr>\n",
       "    <tr>\n",
       "      <th>9</th>\n",
       "      <td>2</td>\n",
       "      <td>female</td>\n",
       "      <td>14.0</td>\n",
       "      <td>30.0708</td>\n",
       "      <td>C</td>\n",
       "      <td>Mrs</td>\n",
       "      <td>small</td>\n",
       "      <td>C</td>\n",
       "      <td>21.6</td>\n",
       "      <td>237736.0</td>\n",
       "      <td>P</td>\n",
       "    </tr>\n",
       "  </tbody>\n",
       "</table>\n",
       "</div>"
      ]
     },
     "execution_count": 193,
     "metadata": {},
     "output_type": "execute_result"
    }
   ],
   "execution_count": 193
  },
  {
   "metadata": {
    "ExecuteTime": {
     "end_time": "2024-10-05T17:08:06.762534Z",
     "start_time": "2024-10-05T17:08:06.757806Z"
    }
   },
   "cell_type": "code",
   "source": "x_train, x_test, y_train, y_test = train_test_split(x, y, test_size=0.2, random_state=0)",
   "id": "cd30cf373a657f7c",
   "outputs": [],
   "execution_count": 194
  },
  {
   "metadata": {
    "ExecuteTime": {
     "end_time": "2024-10-05T17:13:29.108935Z",
     "start_time": "2024-10-05T17:13:29.105461Z"
    }
   },
   "cell_type": "code",
   "source": [
    "nominal_col = ['Sex', 'Embarked', 'title', 'Cabin_Letter', 'Ticket_Letter']\n",
    "preprocess = ColumnTransformer(transformers=[\n",
    "    ('nom_feature', ce.BinaryEncoder(cols=nominal_col), nominal_col),\n",
    "    ('ord_feature', OrdinalEncoder(), ['Family_cat']),\n",
    "    ('num_feature', StandardScaler(), ['Pclass', 'Age', 'Fare', 'Cabin_Number', 'Ticket_number'])\n",
    "], remainder='passthrough')"
   ],
   "id": "e68f60a62bf33806",
   "outputs": [],
   "execution_count": 198
  },
  {
   "metadata": {
    "ExecuteTime": {
     "end_time": "2024-10-05T17:21:45.871748Z",
     "start_time": "2024-10-05T17:21:45.839570Z"
    }
   },
   "cell_type": "code",
   "source": [
    "x_train = preprocess.fit_transform(x_train)\n",
    "x_test = preprocess.transform(x_test)"
   ],
   "id": "dfb4ad6b08cbb3ac",
   "outputs": [],
   "execution_count": 204
  },
  {
   "metadata": {},
   "cell_type": "markdown",
   "source": "Now i use lazyPredict to choice best model",
   "id": "2fe75be7a85b2719"
  },
  {
   "metadata": {
    "ExecuteTime": {
     "end_time": "2024-10-05T17:21:50.984912Z",
     "start_time": "2024-10-05T17:21:48.104662Z"
    }
   },
   "cell_type": "code",
   "source": [
    "clf = LazyClassifier(verbose=0, ignore_warnings=True, custom_metric=None)\n",
    "models, predictions = clf.fit(x_train, x_test, y_train, y_test)"
   ],
   "id": "9480be70866cf19",
   "outputs": [
    {
     "name": "stderr",
     "output_type": "stream",
     "text": [
      "100%|██████████| 31/31 [00:02<00:00, 10.81it/s]"
     ]
    },
    {
     "name": "stdout",
     "output_type": "stream",
     "text": [
      "[LightGBM] [Info] Number of positive: 267, number of negative: 444\n",
      "[LightGBM] [Info] Auto-choosing row-wise multi-threading, the overhead of testing was 0.000247 seconds.\n",
      "You can set `force_row_wise=true` to remove the overhead.\n",
      "And if memory is not enough, you can set `force_col_wise=true`.\n",
      "[LightGBM] [Info] Total Bins 525\n",
      "[LightGBM] [Info] Number of data points in the train set: 711, number of used features: 19\n",
      "[LightGBM] [Info] [binary:BoostFromScore]: pavg=0.375527 -> initscore=-0.508576\n",
      "[LightGBM] [Info] Start training from score -0.508576\n",
      "[LightGBM] [Warning] No further splits with positive gain, best gain: -inf\n",
      "[LightGBM] [Warning] No further splits with positive gain, best gain: -inf\n",
      "[LightGBM] [Warning] No further splits with positive gain, best gain: -inf\n",
      "[LightGBM] [Warning] No further splits with positive gain, best gain: -inf\n",
      "[LightGBM] [Warning] No further splits with positive gain, best gain: -inf\n",
      "[LightGBM] [Warning] No further splits with positive gain, best gain: -inf\n",
      "[LightGBM] [Warning] No further splits with positive gain, best gain: -inf\n",
      "[LightGBM] [Warning] No further splits with positive gain, best gain: -inf\n",
      "[LightGBM] [Warning] No further splits with positive gain, best gain: -inf\n",
      "[LightGBM] [Warning] No further splits with positive gain, best gain: -inf\n",
      "[LightGBM] [Warning] No further splits with positive gain, best gain: -inf\n",
      "[LightGBM] [Warning] No further splits with positive gain, best gain: -inf\n",
      "[LightGBM] [Warning] No further splits with positive gain, best gain: -inf\n",
      "[LightGBM] [Warning] No further splits with positive gain, best gain: -inf\n",
      "[LightGBM] [Warning] No further splits with positive gain, best gain: -inf\n",
      "[LightGBM] [Warning] No further splits with positive gain, best gain: -inf\n",
      "[LightGBM] [Warning] No further splits with positive gain, best gain: -inf\n",
      "[LightGBM] [Warning] No further splits with positive gain, best gain: -inf\n",
      "[LightGBM] [Warning] No further splits with positive gain, best gain: -inf\n",
      "[LightGBM] [Warning] No further splits with positive gain, best gain: -inf\n",
      "[LightGBM] [Warning] No further splits with positive gain, best gain: -inf\n",
      "[LightGBM] [Warning] No further splits with positive gain, best gain: -inf\n",
      "[LightGBM] [Warning] No further splits with positive gain, best gain: -inf\n",
      "[LightGBM] [Warning] No further splits with positive gain, best gain: -inf\n",
      "[LightGBM] [Warning] No further splits with positive gain, best gain: -inf\n",
      "[LightGBM] [Warning] No further splits with positive gain, best gain: -inf\n",
      "[LightGBM] [Warning] No further splits with positive gain, best gain: -inf\n",
      "[LightGBM] [Warning] No further splits with positive gain, best gain: -inf\n",
      "[LightGBM] [Warning] No further splits with positive gain, best gain: -inf\n",
      "[LightGBM] [Warning] No further splits with positive gain, best gain: -inf\n",
      "[LightGBM] [Warning] No further splits with positive gain, best gain: -inf\n",
      "[LightGBM] [Warning] No further splits with positive gain, best gain: -inf\n",
      "[LightGBM] [Warning] No further splits with positive gain, best gain: -inf\n",
      "[LightGBM] [Warning] No further splits with positive gain, best gain: -inf\n",
      "[LightGBM] [Warning] No further splits with positive gain, best gain: -inf\n",
      "[LightGBM] [Warning] No further splits with positive gain, best gain: -inf\n",
      "[LightGBM] [Warning] No further splits with positive gain, best gain: -inf\n",
      "[LightGBM] [Warning] No further splits with positive gain, best gain: -inf\n",
      "[LightGBM] [Warning] No further splits with positive gain, best gain: -inf\n",
      "[LightGBM] [Warning] No further splits with positive gain, best gain: -inf\n",
      "[LightGBM] [Warning] No further splits with positive gain, best gain: -inf\n",
      "[LightGBM] [Warning] No further splits with positive gain, best gain: -inf\n",
      "[LightGBM] [Warning] No further splits with positive gain, best gain: -inf\n",
      "[LightGBM] [Warning] No further splits with positive gain, best gain: -inf\n",
      "[LightGBM] [Warning] No further splits with positive gain, best gain: -inf\n",
      "[LightGBM] [Warning] No further splits with positive gain, best gain: -inf\n",
      "[LightGBM] [Warning] No further splits with positive gain, best gain: -inf\n",
      "[LightGBM] [Warning] No further splits with positive gain, best gain: -inf\n",
      "[LightGBM] [Warning] No further splits with positive gain, best gain: -inf\n",
      "[LightGBM] [Warning] No further splits with positive gain, best gain: -inf\n",
      "[LightGBM] [Warning] No further splits with positive gain, best gain: -inf\n",
      "[LightGBM] [Warning] No further splits with positive gain, best gain: -inf\n",
      "[LightGBM] [Warning] No further splits with positive gain, best gain: -inf\n",
      "[LightGBM] [Warning] No further splits with positive gain, best gain: -inf\n",
      "[LightGBM] [Warning] No further splits with positive gain, best gain: -inf\n",
      "[LightGBM] [Warning] No further splits with positive gain, best gain: -inf\n",
      "[LightGBM] [Warning] No further splits with positive gain, best gain: -inf\n",
      "[LightGBM] [Warning] No further splits with positive gain, best gain: -inf\n",
      "[LightGBM] [Warning] No further splits with positive gain, best gain: -inf\n",
      "[LightGBM] [Warning] No further splits with positive gain, best gain: -inf\n",
      "[LightGBM] [Warning] No further splits with positive gain, best gain: -inf\n",
      "[LightGBM] [Warning] No further splits with positive gain, best gain: -inf\n",
      "[LightGBM] [Warning] No further splits with positive gain, best gain: -inf\n",
      "[LightGBM] [Warning] No further splits with positive gain, best gain: -inf\n",
      "[LightGBM] [Warning] No further splits with positive gain, best gain: -inf\n",
      "[LightGBM] [Warning] No further splits with positive gain, best gain: -inf\n",
      "[LightGBM] [Warning] No further splits with positive gain, best gain: -inf\n",
      "[LightGBM] [Warning] No further splits with positive gain, best gain: -inf\n",
      "[LightGBM] [Warning] No further splits with positive gain, best gain: -inf\n",
      "[LightGBM] [Warning] No further splits with positive gain, best gain: -inf\n",
      "[LightGBM] [Warning] No further splits with positive gain, best gain: -inf\n",
      "[LightGBM] [Warning] No further splits with positive gain, best gain: -inf\n",
      "[LightGBM] [Warning] No further splits with positive gain, best gain: -inf\n",
      "[LightGBM] [Warning] No further splits with positive gain, best gain: -inf\n",
      "[LightGBM] [Warning] No further splits with positive gain, best gain: -inf\n",
      "[LightGBM] [Warning] No further splits with positive gain, best gain: -inf\n",
      "[LightGBM] [Warning] No further splits with positive gain, best gain: -inf\n",
      "[LightGBM] [Warning] No further splits with positive gain, best gain: -inf\n",
      "[LightGBM] [Warning] No further splits with positive gain, best gain: -inf\n",
      "[LightGBM] [Warning] No further splits with positive gain, best gain: -inf\n",
      "[LightGBM] [Warning] No further splits with positive gain, best gain: -inf\n"
     ]
    },
    {
     "name": "stderr",
     "output_type": "stream",
     "text": [
      "\n"
     ]
    }
   ],
   "execution_count": 205
  },
  {
   "metadata": {
    "ExecuteTime": {
     "end_time": "2024-10-05T17:22:05.835047Z",
     "start_time": "2024-10-05T17:22:05.830285Z"
    }
   },
   "cell_type": "code",
   "source": "print(models)",
   "id": "f8ea0695353f8dfe",
   "outputs": [
    {
     "name": "stdout",
     "output_type": "stream",
     "text": [
      "                               Accuracy  Balanced Accuracy  ROC AUC  F1 Score  \\\n",
      "Model                                                                           \n",
      "RandomForestClassifier             0.79               0.77     0.77      0.78   \n",
      "ExtraTreesClassifier               0.78               0.77     0.77      0.78   \n",
      "ExtraTreeClassifier                0.78               0.77     0.77      0.78   \n",
      "SVC                                0.78               0.76     0.76      0.77   \n",
      "LGBMClassifier                     0.77               0.76     0.76      0.77   \n",
      "KNeighborsClassifier               0.78               0.76     0.76      0.77   \n",
      "BaggingClassifier                  0.77               0.75     0.75      0.77   \n",
      "NuSVC                              0.76               0.75     0.75      0.76   \n",
      "DecisionTreeClassifier             0.76               0.75     0.75      0.76   \n",
      "LabelPropagation                   0.76               0.74     0.74      0.76   \n",
      "LabelSpreading                     0.76               0.74     0.74      0.76   \n",
      "XGBClassifier                      0.74               0.73     0.73      0.74   \n",
      "CalibratedClassifierCV             0.74               0.73     0.73      0.74   \n",
      "RidgeClassifierCV                  0.74               0.73     0.73      0.74   \n",
      "RidgeClassifier                    0.74               0.73     0.73      0.74   \n",
      "AdaBoostClassifier                 0.74               0.72     0.72      0.74   \n",
      "BernoulliNB                        0.74               0.72     0.72      0.74   \n",
      "LinearDiscriminantAnalysis         0.73               0.72     0.72      0.73   \n",
      "LinearSVC                          0.73               0.72     0.72      0.73   \n",
      "NearestCentroid                    0.73               0.72     0.72      0.73   \n",
      "LogisticRegression                 0.73               0.72     0.72      0.73   \n",
      "SGDClassifier                      0.71               0.70     0.70      0.71   \n",
      "GaussianNB                         0.70               0.70     0.70      0.70   \n",
      "Perceptron                         0.70               0.68     0.68      0.70   \n",
      "PassiveAggressiveClassifier        0.63               0.61     0.61      0.62   \n",
      "QuadraticDiscriminantAnalysis      0.60               0.51     0.51      0.45   \n",
      "DummyClassifier                    0.59               0.50     0.50      0.44   \n",
      "\n",
      "                               Time Taken  \n",
      "Model                                      \n",
      "RandomForestClassifier               0.11  \n",
      "ExtraTreesClassifier                 0.10  \n",
      "ExtraTreeClassifier                  0.01  \n",
      "SVC                                  0.02  \n",
      "LGBMClassifier                       0.05  \n",
      "KNeighborsClassifier                 0.20  \n",
      "BaggingClassifier                    0.03  \n",
      "NuSVC                                0.02  \n",
      "DecisionTreeClassifier               0.01  \n",
      "LabelPropagation                     0.06  \n",
      "LabelSpreading                       0.06  \n",
      "XGBClassifier                        1.93  \n",
      "CalibratedClassifierCV               0.04  \n",
      "RidgeClassifierCV                    0.04  \n",
      "RidgeClassifier                      0.01  \n",
      "AdaBoostClassifier                   0.07  \n",
      "BernoulliNB                          0.01  \n",
      "LinearDiscriminantAnalysis           0.02  \n",
      "LinearSVC                            0.01  \n",
      "NearestCentroid                      0.01  \n",
      "LogisticRegression                   0.01  \n",
      "SGDClassifier                        0.01  \n",
      "GaussianNB                           0.01  \n",
      "Perceptron                           0.01  \n",
      "PassiveAggressiveClassifier          0.01  \n",
      "QuadraticDiscriminantAnalysis        0.01  \n",
      "DummyClassifier                      0.01  \n"
     ]
    }
   ],
   "execution_count": 206
  },
  {
   "metadata": {},
   "cell_type": "markdown",
   "source": "The performance of the Extra Tree Classifier model is really good and the speed is very fast. So i will choice this",
   "id": "c9f3fa83fdfa161b"
  },
  {
   "metadata": {},
   "cell_type": "markdown",
   "source": "Now i use GridSearchCV to choice best parameters for this model",
   "id": "499ccf25b858c002"
  },
  {
   "metadata": {
    "ExecuteTime": {
     "end_time": "2024-10-05T17:42:53.477517Z",
     "start_time": "2024-10-05T17:42:53.473597Z"
    }
   },
   "cell_type": "code",
   "source": [
    "params = {\n",
    "    'max_depth': [None, 5, 10, 15],\n",
    "    'min_samples_split': [2, 5, 10],\n",
    "    'min_samples_leaf': [1, 2, 4],\n",
    "    'max_features': ['auto', 'sqrt', 'log2'],\n",
    "    'criterion': ['gini', 'entropy']  \n",
    "}\n",
    "\n",
    "\n",
    "clf = GridSearchCV(\n",
    "    estimator=ExtraTreeClassifier(random_state=42),\n",
    "    param_grid=params,\n",
    "    scoring='precision',  \n",
    "    cv=6,\n",
    "    verbose=1,\n",
    "    n_jobs=-1\n",
    ")\n"
   ],
   "id": "7f47a8ca670a1e3e",
   "outputs": [],
   "execution_count": 218
  },
  {
   "metadata": {
    "ExecuteTime": {
     "end_time": "2024-10-05T17:42:58.573444Z",
     "start_time": "2024-10-05T17:42:55.609914Z"
    }
   },
   "cell_type": "code",
   "source": [
    "# Fit GridSearchCV with training data\n",
    "clf.fit(x_train, y_train)\n",
    "\n",
    "# Get the best model from GridSearchCV\n",
    "best_model = clf.best_estimator_\n",
    "\n",
    "# Retrain the best model on the entire training set\n",
    "best_model.fit(x_train, y_train)\n",
    "\n",
    "# Expected on check file\n",
    "y_pred = best_model.predict(x_test) "
   ],
   "id": "a649dbcc0deb7bf",
   "outputs": [
    {
     "name": "stdout",
     "output_type": "stream",
     "text": [
      "Fitting 6 folds for each of 216 candidates, totalling 1296 fits\n"
     ]
    }
   ],
   "execution_count": 219
  },
  {
   "metadata": {
    "ExecuteTime": {
     "end_time": "2024-10-05T17:45:06.417773Z",
     "start_time": "2024-10-05T17:45:06.411616Z"
    }
   },
   "cell_type": "code",
   "source": [
    "for i, j in zip(y_pred, y_test):\n",
    "    print('prediction {} - reality {}'.format(i, j))"
   ],
   "id": "c9cf6ee184f21ce9",
   "outputs": [
    {
     "name": "stdout",
     "output_type": "stream",
     "text": [
      "prediction 0 - reality 0\n",
      "prediction 0 - reality 0\n",
      "prediction 1 - reality 1\n",
      "prediction 0 - reality 0\n",
      "prediction 1 - reality 1\n",
      "prediction 0 - reality 0\n",
      "prediction 0 - reality 0\n",
      "prediction 0 - reality 1\n",
      "prediction 0 - reality 0\n",
      "prediction 1 - reality 1\n",
      "prediction 0 - reality 0\n",
      "prediction 1 - reality 1\n",
      "prediction 1 - reality 1\n",
      "prediction 0 - reality 0\n",
      "prediction 1 - reality 1\n",
      "prediction 0 - reality 0\n",
      "prediction 1 - reality 1\n",
      "prediction 0 - reality 0\n",
      "prediction 0 - reality 1\n",
      "prediction 1 - reality 1\n",
      "prediction 0 - reality 0\n",
      "prediction 1 - reality 1\n",
      "prediction 0 - reality 1\n",
      "prediction 0 - reality 0\n",
      "prediction 0 - reality 0\n",
      "prediction 0 - reality 0\n",
      "prediction 0 - reality 0\n",
      "prediction 0 - reality 1\n",
      "prediction 0 - reality 1\n",
      "prediction 0 - reality 0\n",
      "prediction 0 - reality 1\n",
      "prediction 0 - reality 1\n",
      "prediction 0 - reality 0\n",
      "prediction 0 - reality 1\n",
      "prediction 0 - reality 0\n",
      "prediction 0 - reality 0\n",
      "prediction 0 - reality 0\n",
      "prediction 0 - reality 0\n",
      "prediction 0 - reality 0\n",
      "prediction 0 - reality 0\n",
      "prediction 0 - reality 0\n",
      "prediction 0 - reality 0\n",
      "prediction 1 - reality 1\n",
      "prediction 0 - reality 0\n",
      "prediction 1 - reality 1\n",
      "prediction 0 - reality 0\n",
      "prediction 0 - reality 0\n",
      "prediction 0 - reality 0\n",
      "prediction 0 - reality 0\n",
      "prediction 0 - reality 1\n",
      "prediction 0 - reality 0\n",
      "prediction 0 - reality 0\n",
      "prediction 0 - reality 0\n",
      "prediction 0 - reality 0\n",
      "prediction 0 - reality 0\n",
      "prediction 0 - reality 0\n",
      "prediction 1 - reality 1\n",
      "prediction 1 - reality 1\n",
      "prediction 0 - reality 0\n",
      "prediction 0 - reality 1\n",
      "prediction 0 - reality 1\n",
      "prediction 0 - reality 0\n",
      "prediction 1 - reality 1\n",
      "prediction 0 - reality 0\n",
      "prediction 0 - reality 0\n",
      "prediction 0 - reality 1\n",
      "prediction 1 - reality 0\n",
      "prediction 1 - reality 1\n",
      "prediction 1 - reality 1\n",
      "prediction 1 - reality 1\n",
      "prediction 0 - reality 0\n",
      "prediction 0 - reality 1\n",
      "prediction 0 - reality 0\n",
      "prediction 1 - reality 1\n",
      "prediction 0 - reality 0\n",
      "prediction 0 - reality 0\n",
      "prediction 0 - reality 1\n",
      "prediction 0 - reality 0\n",
      "prediction 1 - reality 0\n",
      "prediction 0 - reality 0\n",
      "prediction 0 - reality 0\n",
      "prediction 1 - reality 1\n",
      "prediction 1 - reality 0\n",
      "prediction 1 - reality 1\n",
      "prediction 1 - reality 1\n",
      "prediction 0 - reality 0\n",
      "prediction 0 - reality 0\n",
      "prediction 0 - reality 1\n",
      "prediction 0 - reality 0\n",
      "prediction 0 - reality 0\n",
      "prediction 0 - reality 0\n",
      "prediction 1 - reality 1\n",
      "prediction 1 - reality 0\n",
      "prediction 0 - reality 0\n",
      "prediction 0 - reality 1\n",
      "prediction 1 - reality 0\n",
      "prediction 1 - reality 1\n",
      "prediction 1 - reality 0\n",
      "prediction 0 - reality 1\n",
      "prediction 1 - reality 1\n",
      "prediction 0 - reality 0\n",
      "prediction 0 - reality 1\n",
      "prediction 0 - reality 1\n",
      "prediction 1 - reality 1\n",
      "prediction 0 - reality 0\n",
      "prediction 1 - reality 1\n",
      "prediction 0 - reality 1\n",
      "prediction 0 - reality 1\n",
      "prediction 0 - reality 0\n",
      "prediction 1 - reality 1\n",
      "prediction 1 - reality 1\n",
      "prediction 1 - reality 1\n",
      "prediction 0 - reality 0\n",
      "prediction 1 - reality 1\n",
      "prediction 0 - reality 0\n",
      "prediction 0 - reality 1\n",
      "prediction 0 - reality 0\n",
      "prediction 0 - reality 1\n",
      "prediction 0 - reality 0\n",
      "prediction 0 - reality 0\n",
      "prediction 0 - reality 0\n",
      "prediction 0 - reality 0\n",
      "prediction 0 - reality 0\n",
      "prediction 0 - reality 1\n",
      "prediction 0 - reality 0\n",
      "prediction 0 - reality 0\n",
      "prediction 0 - reality 0\n",
      "prediction 0 - reality 0\n",
      "prediction 0 - reality 0\n",
      "prediction 0 - reality 0\n",
      "prediction 0 - reality 0\n",
      "prediction 0 - reality 0\n",
      "prediction 0 - reality 0\n",
      "prediction 0 - reality 0\n",
      "prediction 0 - reality 0\n",
      "prediction 0 - reality 1\n",
      "prediction 1 - reality 0\n",
      "prediction 1 - reality 1\n",
      "prediction 1 - reality 1\n",
      "prediction 0 - reality 0\n",
      "prediction 0 - reality 0\n",
      "prediction 0 - reality 0\n",
      "prediction 1 - reality 1\n",
      "prediction 0 - reality 1\n",
      "prediction 0 - reality 0\n",
      "prediction 0 - reality 0\n",
      "prediction 0 - reality 0\n",
      "prediction 1 - reality 1\n",
      "prediction 0 - reality 0\n",
      "prediction 0 - reality 0\n",
      "prediction 0 - reality 0\n",
      "prediction 0 - reality 0\n",
      "prediction 1 - reality 0\n",
      "prediction 1 - reality 0\n",
      "prediction 0 - reality 1\n",
      "prediction 0 - reality 0\n",
      "prediction 1 - reality 1\n",
      "prediction 1 - reality 1\n",
      "prediction 0 - reality 1\n",
      "prediction 0 - reality 0\n",
      "prediction 0 - reality 0\n",
      "prediction 0 - reality 0\n",
      "prediction 1 - reality 1\n",
      "prediction 0 - reality 0\n",
      "prediction 0 - reality 1\n",
      "prediction 1 - reality 1\n",
      "prediction 0 - reality 0\n",
      "prediction 1 - reality 1\n",
      "prediction 0 - reality 1\n",
      "prediction 1 - reality 1\n",
      "prediction 0 - reality 0\n",
      "prediction 0 - reality 0\n",
      "prediction 0 - reality 0\n",
      "prediction 0 - reality 0\n",
      "prediction 0 - reality 1\n",
      "prediction 0 - reality 0\n",
      "prediction 0 - reality 1\n",
      "prediction 0 - reality 1\n"
     ]
    }
   ],
   "execution_count": 220
  },
  {
   "metadata": {
    "ExecuteTime": {
     "end_time": "2024-10-05T17:46:24.248682Z",
     "start_time": "2024-10-05T17:46:24.241308Z"
    }
   },
   "cell_type": "code",
   "source": "print(\"Classification Report:\\n\", classification_report(y_test, y_pred))",
   "id": "e79b339d82f44a90",
   "outputs": [
    {
     "name": "stdout",
     "output_type": "stream",
     "text": [
      "Classification Report:\n",
      "               precision    recall  f1-score   support\n",
      "\n",
      "           0       0.74      0.91      0.82       105\n",
      "           1       0.82      0.55      0.66        73\n",
      "\n",
      "    accuracy                           0.76       178\n",
      "   macro avg       0.78      0.73      0.74       178\n",
      "weighted avg       0.77      0.76      0.75       178\n",
      "\n"
     ]
    }
   ],
   "execution_count": 222
  }
 ],
 "metadata": {
  "kernelspec": {
   "display_name": "Python 3",
   "language": "python",
   "name": "python3"
  },
  "language_info": {
   "codemirror_mode": {
    "name": "ipython",
    "version": 2
   },
   "file_extension": ".py",
   "mimetype": "text/x-python",
   "name": "python",
   "nbconvert_exporter": "python",
   "pygments_lexer": "ipython2",
   "version": "2.7.6"
  }
 },
 "nbformat": 4,
 "nbformat_minor": 5
}
