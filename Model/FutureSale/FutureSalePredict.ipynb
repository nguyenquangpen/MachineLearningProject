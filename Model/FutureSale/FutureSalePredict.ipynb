{
 "cells": [
  {
   "cell_type": "code",
   "id": "initial_id",
   "metadata": {
    "collapsed": true,
    "ExecuteTime": {
     "end_time": "2024-10-23T15:49:32.785063Z",
     "start_time": "2024-10-23T15:49:32.781709Z"
    }
   },
   "source": [
    "import matplotlib.pyplot as plt\n",
    "import pandas as pd\n",
    "import seaborn as sns\n",
    "import xgboost as xgb\n",
    "from sklearn.metrics import mean_squared_error, r2_score, mean_absolute_error\n",
    "from lazypredict.Supervised import LazyRegressor"
   ],
   "outputs": [],
   "execution_count": 31
  },
  {
   "metadata": {
    "ExecuteTime": {
     "end_time": "2024-10-23T15:49:33.745176Z",
     "start_time": "2024-10-23T15:49:32.880164Z"
    }
   },
   "cell_type": "code",
   "source": [
    "train_df = pd.read_csv('C:/Users/Qann/OneDrive - Phenikaa Univesity/machine-learning/Data/FutureSale/sales_train.csv')\n",
    "submission  = pd.read_csv('C:/Users/Qann/OneDrive - Phenikaa Univesity/machine-learning/Data/FutureSale/sample_submission.csv')\n",
    "test_df = pd.read_csv('C:/Users/Qann/OneDrive - Phenikaa Univesity/machine-learning/Data/FutureSale/test.csv')"
   ],
   "id": "c4947b412f20105a",
   "outputs": [],
   "execution_count": 32
  },
  {
   "metadata": {
    "ExecuteTime": {
     "end_time": "2024-10-23T15:49:33.751868Z",
     "start_time": "2024-10-23T15:49:33.745176Z"
    }
   },
   "cell_type": "code",
   "source": "train_df.head()",
   "id": "baa69ab0c3d15f1b",
   "outputs": [
    {
     "data": {
      "text/plain": [
       "         date  date_block_num  shop_id  item_id  item_price  item_cnt_day\n",
       "0  02.01.2013               0       59    22154      999.00          1.00\n",
       "1  03.01.2013               0       25     2552      899.00          1.00\n",
       "2  05.01.2013               0       25     2552      899.00         -1.00\n",
       "3  06.01.2013               0       25     2554     1709.05          1.00\n",
       "4  15.01.2013               0       25     2555     1099.00          1.00"
      ],
      "text/html": [
       "<div>\n",
       "<style scoped>\n",
       "    .dataframe tbody tr th:only-of-type {\n",
       "        vertical-align: middle;\n",
       "    }\n",
       "\n",
       "    .dataframe tbody tr th {\n",
       "        vertical-align: top;\n",
       "    }\n",
       "\n",
       "    .dataframe thead th {\n",
       "        text-align: right;\n",
       "    }\n",
       "</style>\n",
       "<table border=\"1\" class=\"dataframe\">\n",
       "  <thead>\n",
       "    <tr style=\"text-align: right;\">\n",
       "      <th></th>\n",
       "      <th>date</th>\n",
       "      <th>date_block_num</th>\n",
       "      <th>shop_id</th>\n",
       "      <th>item_id</th>\n",
       "      <th>item_price</th>\n",
       "      <th>item_cnt_day</th>\n",
       "    </tr>\n",
       "  </thead>\n",
       "  <tbody>\n",
       "    <tr>\n",
       "      <th>0</th>\n",
       "      <td>02.01.2013</td>\n",
       "      <td>0</td>\n",
       "      <td>59</td>\n",
       "      <td>22154</td>\n",
       "      <td>999.00</td>\n",
       "      <td>1.00</td>\n",
       "    </tr>\n",
       "    <tr>\n",
       "      <th>1</th>\n",
       "      <td>03.01.2013</td>\n",
       "      <td>0</td>\n",
       "      <td>25</td>\n",
       "      <td>2552</td>\n",
       "      <td>899.00</td>\n",
       "      <td>1.00</td>\n",
       "    </tr>\n",
       "    <tr>\n",
       "      <th>2</th>\n",
       "      <td>05.01.2013</td>\n",
       "      <td>0</td>\n",
       "      <td>25</td>\n",
       "      <td>2552</td>\n",
       "      <td>899.00</td>\n",
       "      <td>-1.00</td>\n",
       "    </tr>\n",
       "    <tr>\n",
       "      <th>3</th>\n",
       "      <td>06.01.2013</td>\n",
       "      <td>0</td>\n",
       "      <td>25</td>\n",
       "      <td>2554</td>\n",
       "      <td>1709.05</td>\n",
       "      <td>1.00</td>\n",
       "    </tr>\n",
       "    <tr>\n",
       "      <th>4</th>\n",
       "      <td>15.01.2013</td>\n",
       "      <td>0</td>\n",
       "      <td>25</td>\n",
       "      <td>2555</td>\n",
       "      <td>1099.00</td>\n",
       "      <td>1.00</td>\n",
       "    </tr>\n",
       "  </tbody>\n",
       "</table>\n",
       "</div>"
      ]
     },
     "execution_count": 33,
     "metadata": {},
     "output_type": "execute_result"
    }
   ],
   "execution_count": 33
  },
  {
   "metadata": {
    "ExecuteTime": {
     "end_time": "2024-10-23T15:49:33.757922Z",
     "start_time": "2024-10-23T15:49:33.751868Z"
    }
   },
   "cell_type": "code",
   "source": "train_df.info()",
   "id": "5f2e592a30917fc1",
   "outputs": [
    {
     "name": "stdout",
     "output_type": "stream",
     "text": [
      "<class 'pandas.core.frame.DataFrame'>\n",
      "RangeIndex: 2935849 entries, 0 to 2935848\n",
      "Data columns (total 6 columns):\n",
      " #   Column          Dtype  \n",
      "---  ------          -----  \n",
      " 0   date            object \n",
      " 1   date_block_num  int64  \n",
      " 2   shop_id         int64  \n",
      " 3   item_id         int64  \n",
      " 4   item_price      float64\n",
      " 5   item_cnt_day    float64\n",
      "dtypes: float64(2), int64(3), object(1)\n",
      "memory usage: 134.4+ MB\n"
     ]
    }
   ],
   "execution_count": 34
  },
  {
   "metadata": {
    "ExecuteTime": {
     "end_time": "2024-10-23T15:49:34.114606Z",
     "start_time": "2024-10-23T15:49:33.758938Z"
    }
   },
   "cell_type": "code",
   "source": "train_df.describe()",
   "id": "55bd8f49818789c0",
   "outputs": [
    {
     "data": {
      "text/plain": [
       "       date_block_num    shop_id    item_id  item_price  item_cnt_day\n",
       "count      2935849.00 2935849.00 2935849.00  2935849.00    2935849.00\n",
       "mean            14.57      33.00   10197.23      890.85          1.24\n",
       "std              9.42      16.23    6324.30     1729.80          2.62\n",
       "min              0.00       0.00       0.00       -1.00        -22.00\n",
       "25%              7.00      22.00    4476.00      249.00          1.00\n",
       "50%             14.00      31.00    9343.00      399.00          1.00\n",
       "75%             23.00      47.00   15684.00      999.00          1.00\n",
       "max             33.00      59.00   22169.00   307980.00       2169.00"
      ],
      "text/html": [
       "<div>\n",
       "<style scoped>\n",
       "    .dataframe tbody tr th:only-of-type {\n",
       "        vertical-align: middle;\n",
       "    }\n",
       "\n",
       "    .dataframe tbody tr th {\n",
       "        vertical-align: top;\n",
       "    }\n",
       "\n",
       "    .dataframe thead th {\n",
       "        text-align: right;\n",
       "    }\n",
       "</style>\n",
       "<table border=\"1\" class=\"dataframe\">\n",
       "  <thead>\n",
       "    <tr style=\"text-align: right;\">\n",
       "      <th></th>\n",
       "      <th>date_block_num</th>\n",
       "      <th>shop_id</th>\n",
       "      <th>item_id</th>\n",
       "      <th>item_price</th>\n",
       "      <th>item_cnt_day</th>\n",
       "    </tr>\n",
       "  </thead>\n",
       "  <tbody>\n",
       "    <tr>\n",
       "      <th>count</th>\n",
       "      <td>2935849.00</td>\n",
       "      <td>2935849.00</td>\n",
       "      <td>2935849.00</td>\n",
       "      <td>2935849.00</td>\n",
       "      <td>2935849.00</td>\n",
       "    </tr>\n",
       "    <tr>\n",
       "      <th>mean</th>\n",
       "      <td>14.57</td>\n",
       "      <td>33.00</td>\n",
       "      <td>10197.23</td>\n",
       "      <td>890.85</td>\n",
       "      <td>1.24</td>\n",
       "    </tr>\n",
       "    <tr>\n",
       "      <th>std</th>\n",
       "      <td>9.42</td>\n",
       "      <td>16.23</td>\n",
       "      <td>6324.30</td>\n",
       "      <td>1729.80</td>\n",
       "      <td>2.62</td>\n",
       "    </tr>\n",
       "    <tr>\n",
       "      <th>min</th>\n",
       "      <td>0.00</td>\n",
       "      <td>0.00</td>\n",
       "      <td>0.00</td>\n",
       "      <td>-1.00</td>\n",
       "      <td>-22.00</td>\n",
       "    </tr>\n",
       "    <tr>\n",
       "      <th>25%</th>\n",
       "      <td>7.00</td>\n",
       "      <td>22.00</td>\n",
       "      <td>4476.00</td>\n",
       "      <td>249.00</td>\n",
       "      <td>1.00</td>\n",
       "    </tr>\n",
       "    <tr>\n",
       "      <th>50%</th>\n",
       "      <td>14.00</td>\n",
       "      <td>31.00</td>\n",
       "      <td>9343.00</td>\n",
       "      <td>399.00</td>\n",
       "      <td>1.00</td>\n",
       "    </tr>\n",
       "    <tr>\n",
       "      <th>75%</th>\n",
       "      <td>23.00</td>\n",
       "      <td>47.00</td>\n",
       "      <td>15684.00</td>\n",
       "      <td>999.00</td>\n",
       "      <td>1.00</td>\n",
       "    </tr>\n",
       "    <tr>\n",
       "      <th>max</th>\n",
       "      <td>33.00</td>\n",
       "      <td>59.00</td>\n",
       "      <td>22169.00</td>\n",
       "      <td>307980.00</td>\n",
       "      <td>2169.00</td>\n",
       "    </tr>\n",
       "  </tbody>\n",
       "</table>\n",
       "</div>"
      ]
     },
     "execution_count": 35,
     "metadata": {},
     "output_type": "execute_result"
    }
   ],
   "execution_count": 35
  },
  {
   "metadata": {},
   "cell_type": "markdown",
   "source": "find null value ",
   "id": "9d9a80d56b560554"
  },
  {
   "metadata": {
    "ExecuteTime": {
     "end_time": "2024-10-23T15:49:34.125830Z",
     "start_time": "2024-10-23T15:49:34.115777Z"
    }
   },
   "cell_type": "code",
   "source": "train_df[train_df['item_price']<0]",
   "id": "ceabd65ff584b286",
   "outputs": [
    {
     "data": {
      "text/plain": [
       "              date  date_block_num  shop_id  item_id  item_price  item_cnt_day\n",
       "484683  15.05.2013               4       32     2973       -1.00          1.00"
      ],
      "text/html": [
       "<div>\n",
       "<style scoped>\n",
       "    .dataframe tbody tr th:only-of-type {\n",
       "        vertical-align: middle;\n",
       "    }\n",
       "\n",
       "    .dataframe tbody tr th {\n",
       "        vertical-align: top;\n",
       "    }\n",
       "\n",
       "    .dataframe thead th {\n",
       "        text-align: right;\n",
       "    }\n",
       "</style>\n",
       "<table border=\"1\" class=\"dataframe\">\n",
       "  <thead>\n",
       "    <tr style=\"text-align: right;\">\n",
       "      <th></th>\n",
       "      <th>date</th>\n",
       "      <th>date_block_num</th>\n",
       "      <th>shop_id</th>\n",
       "      <th>item_id</th>\n",
       "      <th>item_price</th>\n",
       "      <th>item_cnt_day</th>\n",
       "    </tr>\n",
       "  </thead>\n",
       "  <tbody>\n",
       "    <tr>\n",
       "      <th>484683</th>\n",
       "      <td>15.05.2013</td>\n",
       "      <td>4</td>\n",
       "      <td>32</td>\n",
       "      <td>2973</td>\n",
       "      <td>-1.00</td>\n",
       "      <td>1.00</td>\n",
       "    </tr>\n",
       "  </tbody>\n",
       "</table>\n",
       "</div>"
      ]
     },
     "execution_count": 36,
     "metadata": {},
     "output_type": "execute_result"
    }
   ],
   "execution_count": 36
  },
  {
   "metadata": {
    "ExecuteTime": {
     "end_time": "2024-10-23T15:49:34.136967Z",
     "start_time": "2024-10-23T15:49:34.126938Z"
    }
   },
   "cell_type": "code",
   "source": "train_df[train_df['item_cnt_day']<0]",
   "id": "d2d06ae0b03b0ac6",
   "outputs": [
    {
     "data": {
      "text/plain": [
       "               date  date_block_num  shop_id  item_id  item_price  \\\n",
       "2        05.01.2013               0       25     2552      899.00   \n",
       "148      23.01.2013               0       25     2321      999.00   \n",
       "175      07.01.2013               0       25     2199     1449.00   \n",
       "807      02.01.2013               0       25     2330      599.00   \n",
       "1041     13.01.2013               0       25     5034     1989.00   \n",
       "...             ...             ...      ...      ...         ...   \n",
       "2934243  26.10.2015              33       25     3917      449.00   \n",
       "2934462  18.10.2015              33       25     4896     6398.00   \n",
       "2935263  05.10.2015              33       25    10039      249.00   \n",
       "2935643  16.10.2015              33       25     7893     2990.00   \n",
       "2935779  07.10.2015              33       25     7087      999.00   \n",
       "\n",
       "         item_cnt_day  \n",
       "2               -1.00  \n",
       "148             -1.00  \n",
       "175             -1.00  \n",
       "807             -1.00  \n",
       "1041            -1.00  \n",
       "...               ...  \n",
       "2934243         -1.00  \n",
       "2934462         -1.00  \n",
       "2935263         -1.00  \n",
       "2935643         -1.00  \n",
       "2935779         -1.00  \n",
       "\n",
       "[7356 rows x 6 columns]"
      ],
      "text/html": [
       "<div>\n",
       "<style scoped>\n",
       "    .dataframe tbody tr th:only-of-type {\n",
       "        vertical-align: middle;\n",
       "    }\n",
       "\n",
       "    .dataframe tbody tr th {\n",
       "        vertical-align: top;\n",
       "    }\n",
       "\n",
       "    .dataframe thead th {\n",
       "        text-align: right;\n",
       "    }\n",
       "</style>\n",
       "<table border=\"1\" class=\"dataframe\">\n",
       "  <thead>\n",
       "    <tr style=\"text-align: right;\">\n",
       "      <th></th>\n",
       "      <th>date</th>\n",
       "      <th>date_block_num</th>\n",
       "      <th>shop_id</th>\n",
       "      <th>item_id</th>\n",
       "      <th>item_price</th>\n",
       "      <th>item_cnt_day</th>\n",
       "    </tr>\n",
       "  </thead>\n",
       "  <tbody>\n",
       "    <tr>\n",
       "      <th>2</th>\n",
       "      <td>05.01.2013</td>\n",
       "      <td>0</td>\n",
       "      <td>25</td>\n",
       "      <td>2552</td>\n",
       "      <td>899.00</td>\n",
       "      <td>-1.00</td>\n",
       "    </tr>\n",
       "    <tr>\n",
       "      <th>148</th>\n",
       "      <td>23.01.2013</td>\n",
       "      <td>0</td>\n",
       "      <td>25</td>\n",
       "      <td>2321</td>\n",
       "      <td>999.00</td>\n",
       "      <td>-1.00</td>\n",
       "    </tr>\n",
       "    <tr>\n",
       "      <th>175</th>\n",
       "      <td>07.01.2013</td>\n",
       "      <td>0</td>\n",
       "      <td>25</td>\n",
       "      <td>2199</td>\n",
       "      <td>1449.00</td>\n",
       "      <td>-1.00</td>\n",
       "    </tr>\n",
       "    <tr>\n",
       "      <th>807</th>\n",
       "      <td>02.01.2013</td>\n",
       "      <td>0</td>\n",
       "      <td>25</td>\n",
       "      <td>2330</td>\n",
       "      <td>599.00</td>\n",
       "      <td>-1.00</td>\n",
       "    </tr>\n",
       "    <tr>\n",
       "      <th>1041</th>\n",
       "      <td>13.01.2013</td>\n",
       "      <td>0</td>\n",
       "      <td>25</td>\n",
       "      <td>5034</td>\n",
       "      <td>1989.00</td>\n",
       "      <td>-1.00</td>\n",
       "    </tr>\n",
       "    <tr>\n",
       "      <th>...</th>\n",
       "      <td>...</td>\n",
       "      <td>...</td>\n",
       "      <td>...</td>\n",
       "      <td>...</td>\n",
       "      <td>...</td>\n",
       "      <td>...</td>\n",
       "    </tr>\n",
       "    <tr>\n",
       "      <th>2934243</th>\n",
       "      <td>26.10.2015</td>\n",
       "      <td>33</td>\n",
       "      <td>25</td>\n",
       "      <td>3917</td>\n",
       "      <td>449.00</td>\n",
       "      <td>-1.00</td>\n",
       "    </tr>\n",
       "    <tr>\n",
       "      <th>2934462</th>\n",
       "      <td>18.10.2015</td>\n",
       "      <td>33</td>\n",
       "      <td>25</td>\n",
       "      <td>4896</td>\n",
       "      <td>6398.00</td>\n",
       "      <td>-1.00</td>\n",
       "    </tr>\n",
       "    <tr>\n",
       "      <th>2935263</th>\n",
       "      <td>05.10.2015</td>\n",
       "      <td>33</td>\n",
       "      <td>25</td>\n",
       "      <td>10039</td>\n",
       "      <td>249.00</td>\n",
       "      <td>-1.00</td>\n",
       "    </tr>\n",
       "    <tr>\n",
       "      <th>2935643</th>\n",
       "      <td>16.10.2015</td>\n",
       "      <td>33</td>\n",
       "      <td>25</td>\n",
       "      <td>7893</td>\n",
       "      <td>2990.00</td>\n",
       "      <td>-1.00</td>\n",
       "    </tr>\n",
       "    <tr>\n",
       "      <th>2935779</th>\n",
       "      <td>07.10.2015</td>\n",
       "      <td>33</td>\n",
       "      <td>25</td>\n",
       "      <td>7087</td>\n",
       "      <td>999.00</td>\n",
       "      <td>-1.00</td>\n",
       "    </tr>\n",
       "  </tbody>\n",
       "</table>\n",
       "<p>7356 rows × 6 columns</p>\n",
       "</div>"
      ]
     },
     "execution_count": 37,
     "metadata": {},
     "output_type": "execute_result"
    }
   ],
   "execution_count": 37
  },
  {
   "metadata": {},
   "cell_type": "markdown",
   "source": "remove null value",
   "id": "151fb0d30bdd26f1"
  },
  {
   "metadata": {
    "ExecuteTime": {
     "end_time": "2024-10-23T15:49:34.242856Z",
     "start_time": "2024-10-23T15:49:34.138084Z"
    }
   },
   "cell_type": "code",
   "source": [
    "train_df = train_df[(train_df['item_price'] > 0) & (train_df['item_cnt_day'] > 0)]\n",
    "print(train_df.shape)"
   ],
   "id": "70c21a67f4040036",
   "outputs": [
    {
     "name": "stdout",
     "output_type": "stream",
     "text": [
      "(2928492, 6)\n"
     ]
    }
   ],
   "execution_count": 38
  },
  {
   "metadata": {
    "ExecuteTime": {
     "end_time": "2024-10-23T15:49:34.445365Z",
     "start_time": "2024-10-23T15:49:34.244207Z"
    }
   },
   "cell_type": "code",
   "source": "train_df['date'] = pd.to_datetime(train_df['date'], format='%d.%m.%Y')",
   "id": "b8129af1534570c8",
   "outputs": [],
   "execution_count": 39
  },
  {
   "metadata": {},
   "cell_type": "markdown",
   "source": "visualize data",
   "id": "bd8392ac6617df43"
  },
  {
   "metadata": {
    "ExecuteTime": {
     "end_time": "2024-10-23T15:49:35.002195Z",
     "start_time": "2024-10-23T15:49:34.446478Z"
    }
   },
   "cell_type": "code",
   "source": [
    "df_tmp = train_df.copy()\n",
    "\n",
    "# add year and date col\n",
    "df_tmp = df_tmp.rename(columns={\"item_cnt_day\": \"item_cnt_month\"})\n",
    "df_tmp['year'] = df_tmp['date'].dt.year\n",
    "df_tmp['month'] = df_tmp['date'].dt.month\n",
    "\n",
    "# group data fllow moth and year\n",
    "df_tmp = df_tmp.groupby(['year', 'month'])[['item_cnt_month']].sum().reset_index()\n",
    "\n",
    "# split data\n",
    "data_2013 = df_tmp[df_tmp['year'] == 2013]\n",
    "data_2014 = df_tmp[df_tmp['year'] == 2014]\n",
    "data_2015 = df_tmp[df_tmp['year'] == 2015]\n",
    "\n",
    "plt.figure(figsize=(20, 10))\n",
    "\n",
    "plt.plot(data_2013['month'], data_2013['item_cnt_month'], label='2013')\n",
    "plt.plot(data_2014['month'], data_2014['item_cnt_month'], label='2014')\n",
    "plt.plot(data_2015['month'], data_2015['item_cnt_month'], label='2015')\n",
    "\n",
    "plt.title('Total Sales per Month')\n",
    "plt.xlabel('Month')\n",
    "plt.ylabel('Total Sales')\n",
    "plt.legend()\n",
    "plt.show()\n"
   ],
   "id": "4e454a0d27222c24",
   "outputs": [
    {
     "data": {
      "text/plain": [
       "<Figure size 2000x1000 with 1 Axes>"
      ],
      "image/png": "[encoded data removed]"
     },
     "metadata": {},
     "output_type": "display_data"
    }
   ],
   "execution_count": 40
  },
  {
   "metadata": {},
   "cell_type": "markdown",
   "source": "In the following years, the number of products sold tended to decrease.",
   "id": "a3f5df2fcd19831f"
  },
  {
   "metadata": {
    "ExecuteTime": {
     "end_time": "2024-10-23T15:49:35.190912Z",
     "start_time": "2024-10-23T15:49:35.005205Z"
    }
   },
   "cell_type": "code",
   "source": [
    "df_shop = train_df.groupby('shop_id')['item_cnt_day'].sum().reset_index()\n",
    "plt.bar(df_shop['shop_id'], df_shop['item_cnt_day'])\n",
    "plt.title('Total Sales per Shop')\n",
    "plt.xlabel('Shop ID')\n",
    "plt.ylabel('Total Sales')\n",
    "plt.figure(figsize=(20, 10))\n",
    "plt.show()"
   ],
   "id": "1839c8569b094a91",
   "outputs": [
    {
     "data": {
      "text/plain": [
       "<Figure size 640x480 with 1 Axes>"
      ],
      "image/png": "[encoded data removed]"
     },
     "metadata": {},
     "output_type": "display_data"
    },
    {
     "data": {
      "text/plain": [
       "<Figure size 2000x1000 with 0 Axes>"
      ]
     },
     "metadata": {},
     "output_type": "display_data"
    }
   ],
   "execution_count": 41
  },
  {
   "metadata": {},
   "cell_type": "markdown",
   "source": "Items with id around 30 are best sellers",
   "id": "c2b58fa773e22101"
  },
  {
   "metadata": {
    "ExecuteTime": {
     "end_time": "2024-10-23T15:49:35.418882Z",
     "start_time": "2024-10-23T15:49:35.192014Z"
    }
   },
   "cell_type": "code",
   "source": [
    "train_df['month'] = train_df['date'].dt.month\n",
    "train_df['year'] = train_df['date'].dt.year\n",
    "train_df['date_of_weak'] = train_df['date'].dt.dayofweek\n",
    "train_df.head()"
   ],
   "id": "fc5ef969a3ddbe8b",
   "outputs": [
    {
     "data": {
      "text/plain": [
       "        date  date_block_num  shop_id  item_id  item_price  item_cnt_day  \\\n",
       "0 2013-01-02               0       59    22154      999.00          1.00   \n",
       "1 2013-01-03               0       25     2552      899.00          1.00   \n",
       "3 2013-01-06               0       25     2554     1709.05          1.00   \n",
       "4 2013-01-15               0       25     2555     1099.00          1.00   \n",
       "5 2013-01-10               0       25     2564      349.00          1.00   \n",
       "\n",
       "   month  year  date_of_weak  \n",
       "0      1  2013             2  \n",
       "1      1  2013             3  \n",
       "3      1  2013             6  \n",
       "4      1  2013             1  \n",
       "5      1  2013             3  "
      ],
      "text/html": [
       "<div>\n",
       "<style scoped>\n",
       "    .dataframe tbody tr th:only-of-type {\n",
       "        vertical-align: middle;\n",
       "    }\n",
       "\n",
       "    .dataframe tbody tr th {\n",
       "        vertical-align: top;\n",
       "    }\n",
       "\n",
       "    .dataframe thead th {\n",
       "        text-align: right;\n",
       "    }\n",
       "</style>\n",
       "<table border=\"1\" class=\"dataframe\">\n",
       "  <thead>\n",
       "    <tr style=\"text-align: right;\">\n",
       "      <th></th>\n",
       "      <th>date</th>\n",
       "      <th>date_block_num</th>\n",
       "      <th>shop_id</th>\n",
       "      <th>item_id</th>\n",
       "      <th>item_price</th>\n",
       "      <th>item_cnt_day</th>\n",
       "      <th>month</th>\n",
       "      <th>year</th>\n",
       "      <th>date_of_weak</th>\n",
       "    </tr>\n",
       "  </thead>\n",
       "  <tbody>\n",
       "    <tr>\n",
       "      <th>0</th>\n",
       "      <td>2013-01-02</td>\n",
       "      <td>0</td>\n",
       "      <td>59</td>\n",
       "      <td>22154</td>\n",
       "      <td>999.00</td>\n",
       "      <td>1.00</td>\n",
       "      <td>1</td>\n",
       "      <td>2013</td>\n",
       "      <td>2</td>\n",
       "    </tr>\n",
       "    <tr>\n",
       "      <th>1</th>\n",
       "      <td>2013-01-03</td>\n",
       "      <td>0</td>\n",
       "      <td>25</td>\n",
       "      <td>2552</td>\n",
       "      <td>899.00</td>\n",
       "      <td>1.00</td>\n",
       "      <td>1</td>\n",
       "      <td>2013</td>\n",
       "      <td>3</td>\n",
       "    </tr>\n",
       "    <tr>\n",
       "      <th>3</th>\n",
       "      <td>2013-01-06</td>\n",
       "      <td>0</td>\n",
       "      <td>25</td>\n",
       "      <td>2554</td>\n",
       "      <td>1709.05</td>\n",
       "      <td>1.00</td>\n",
       "      <td>1</td>\n",
       "      <td>2013</td>\n",
       "      <td>6</td>\n",
       "    </tr>\n",
       "    <tr>\n",
       "      <th>4</th>\n",
       "      <td>2013-01-15</td>\n",
       "      <td>0</td>\n",
       "      <td>25</td>\n",
       "      <td>2555</td>\n",
       "      <td>1099.00</td>\n",
       "      <td>1.00</td>\n",
       "      <td>1</td>\n",
       "      <td>2013</td>\n",
       "      <td>1</td>\n",
       "    </tr>\n",
       "    <tr>\n",
       "      <th>5</th>\n",
       "      <td>2013-01-10</td>\n",
       "      <td>0</td>\n",
       "      <td>25</td>\n",
       "      <td>2564</td>\n",
       "      <td>349.00</td>\n",
       "      <td>1.00</td>\n",
       "      <td>1</td>\n",
       "      <td>2013</td>\n",
       "      <td>3</td>\n",
       "    </tr>\n",
       "  </tbody>\n",
       "</table>\n",
       "</div>"
      ]
     },
     "execution_count": 42,
     "metadata": {},
     "output_type": "execute_result"
    }
   ],
   "execution_count": 42
  },
  {
   "metadata": {
    "ExecuteTime": {
     "end_time": "2024-10-23T15:49:35.957482Z",
     "start_time": "2024-10-23T15:49:35.419982Z"
    }
   },
   "cell_type": "code",
   "source": [
    "monthly_sales = train_df.groupby(['date_block_num','shop_id','item_id']).agg(\n",
    "    {\n",
    "        \"item_cnt_day\":'sum',\n",
    "        \"item_price\":'mean'\n",
    "    }\n",
    ").reset_index()\n",
    "monthly_sales = monthly_sales.rename(columns={'item_cnt_day': 'item_cnt_month'})\n",
    "monthly_sales.head()"
   ],
   "id": "fd4692d16f07bf2e",
   "outputs": [
    {
     "data": {
      "text/plain": [
       "   date_block_num  shop_id  item_id  item_cnt_month  item_price\n",
       "0               0        0       32            6.00      221.00\n",
       "1               0        0       33            3.00      347.00\n",
       "2               0        0       35            1.00      247.00\n",
       "3               0        0       43            1.00      221.00\n",
       "4               0        0       51            2.00      128.50"
      ],
      "text/html": [
       "<div>\n",
       "<style scoped>\n",
       "    .dataframe tbody tr th:only-of-type {\n",
       "        vertical-align: middle;\n",
       "    }\n",
       "\n",
       "    .dataframe tbody tr th {\n",
       "        vertical-align: top;\n",
       "    }\n",
       "\n",
       "    .dataframe thead th {\n",
       "        text-align: right;\n",
       "    }\n",
       "</style>\n",
       "<table border=\"1\" class=\"dataframe\">\n",
       "  <thead>\n",
       "    <tr style=\"text-align: right;\">\n",
       "      <th></th>\n",
       "      <th>date_block_num</th>\n",
       "      <th>shop_id</th>\n",
       "      <th>item_id</th>\n",
       "      <th>item_cnt_month</th>\n",
       "      <th>item_price</th>\n",
       "    </tr>\n",
       "  </thead>\n",
       "  <tbody>\n",
       "    <tr>\n",
       "      <th>0</th>\n",
       "      <td>0</td>\n",
       "      <td>0</td>\n",
       "      <td>32</td>\n",
       "      <td>6.00</td>\n",
       "      <td>221.00</td>\n",
       "    </tr>\n",
       "    <tr>\n",
       "      <th>1</th>\n",
       "      <td>0</td>\n",
       "      <td>0</td>\n",
       "      <td>33</td>\n",
       "      <td>3.00</td>\n",
       "      <td>347.00</td>\n",
       "    </tr>\n",
       "    <tr>\n",
       "      <th>2</th>\n",
       "      <td>0</td>\n",
       "      <td>0</td>\n",
       "      <td>35</td>\n",
       "      <td>1.00</td>\n",
       "      <td>247.00</td>\n",
       "    </tr>\n",
       "    <tr>\n",
       "      <th>3</th>\n",
       "      <td>0</td>\n",
       "      <td>0</td>\n",
       "      <td>43</td>\n",
       "      <td>1.00</td>\n",
       "      <td>221.00</td>\n",
       "    </tr>\n",
       "    <tr>\n",
       "      <th>4</th>\n",
       "      <td>0</td>\n",
       "      <td>0</td>\n",
       "      <td>51</td>\n",
       "      <td>2.00</td>\n",
       "      <td>128.50</td>\n",
       "    </tr>\n",
       "  </tbody>\n",
       "</table>\n",
       "</div>"
      ]
     },
     "execution_count": 43,
     "metadata": {},
     "output_type": "execute_result"
    }
   ],
   "execution_count": 43
  },
  {
   "metadata": {},
   "cell_type": "markdown",
   "source": "move down to be able to predict based on past data",
   "id": "82aa9e3205909c0b"
  },
  {
   "metadata": {
    "ExecuteTime": {
     "end_time": "2024-10-23T15:49:36.422927Z",
     "start_time": "2024-10-23T15:49:35.958493Z"
    }
   },
   "cell_type": "code",
   "source": [
    "def add_lags(df, lags, column):\n",
    "    for lag in lags:\n",
    "        df[f'{column}_lag_{lag}'] = df.groupby(['shop_id', 'item_id'])[column].shift(lag)\n",
    "    return df\n",
    "monthly_df = add_lags(monthly_sales, [1, 2, 3], 'item_cnt_month')\n",
    "monthly_df.fillna(0, inplace=True)\n",
    "monthly_df.head()"
   ],
   "id": "1ddc5fdc171a36a7",
   "outputs": [
    {
     "data": {
      "text/plain": [
       "   date_block_num  shop_id  item_id  item_cnt_month  item_price  \\\n",
       "0               0        0       32            6.00      221.00   \n",
       "1               0        0       33            3.00      347.00   \n",
       "2               0        0       35            1.00      247.00   \n",
       "3               0        0       43            1.00      221.00   \n",
       "4               0        0       51            2.00      128.50   \n",
       "\n",
       "   item_cnt_month_lag_1  item_cnt_month_lag_2  item_cnt_month_lag_3  \n",
       "0                  0.00                  0.00                  0.00  \n",
       "1                  0.00                  0.00                  0.00  \n",
       "2                  0.00                  0.00                  0.00  \n",
       "3                  0.00                  0.00                  0.00  \n",
       "4                  0.00                  0.00                  0.00  "
      ],
      "text/html": [
       "<div>\n",
       "<style scoped>\n",
       "    .dataframe tbody tr th:only-of-type {\n",
       "        vertical-align: middle;\n",
       "    }\n",
       "\n",
       "    .dataframe tbody tr th {\n",
       "        vertical-align: top;\n",
       "    }\n",
       "\n",
       "    .dataframe thead th {\n",
       "        text-align: right;\n",
       "    }\n",
       "</style>\n",
       "<table border=\"1\" class=\"dataframe\">\n",
       "  <thead>\n",
       "    <tr style=\"text-align: right;\">\n",
       "      <th></th>\n",
       "      <th>date_block_num</th>\n",
       "      <th>shop_id</th>\n",
       "      <th>item_id</th>\n",
       "      <th>item_cnt_month</th>\n",
       "      <th>item_price</th>\n",
       "      <th>item_cnt_month_lag_1</th>\n",
       "      <th>item_cnt_month_lag_2</th>\n",
       "      <th>item_cnt_month_lag_3</th>\n",
       "    </tr>\n",
       "  </thead>\n",
       "  <tbody>\n",
       "    <tr>\n",
       "      <th>0</th>\n",
       "      <td>0</td>\n",
       "      <td>0</td>\n",
       "      <td>32</td>\n",
       "      <td>6.00</td>\n",
       "      <td>221.00</td>\n",
       "      <td>0.00</td>\n",
       "      <td>0.00</td>\n",
       "      <td>0.00</td>\n",
       "    </tr>\n",
       "    <tr>\n",
       "      <th>1</th>\n",
       "      <td>0</td>\n",
       "      <td>0</td>\n",
       "      <td>33</td>\n",
       "      <td>3.00</td>\n",
       "      <td>347.00</td>\n",
       "      <td>0.00</td>\n",
       "      <td>0.00</td>\n",
       "      <td>0.00</td>\n",
       "    </tr>\n",
       "    <tr>\n",
       "      <th>2</th>\n",
       "      <td>0</td>\n",
       "      <td>0</td>\n",
       "      <td>35</td>\n",
       "      <td>1.00</td>\n",
       "      <td>247.00</td>\n",
       "      <td>0.00</td>\n",
       "      <td>0.00</td>\n",
       "      <td>0.00</td>\n",
       "    </tr>\n",
       "    <tr>\n",
       "      <th>3</th>\n",
       "      <td>0</td>\n",
       "      <td>0</td>\n",
       "      <td>43</td>\n",
       "      <td>1.00</td>\n",
       "      <td>221.00</td>\n",
       "      <td>0.00</td>\n",
       "      <td>0.00</td>\n",
       "      <td>0.00</td>\n",
       "    </tr>\n",
       "    <tr>\n",
       "      <th>4</th>\n",
       "      <td>0</td>\n",
       "      <td>0</td>\n",
       "      <td>51</td>\n",
       "      <td>2.00</td>\n",
       "      <td>128.50</td>\n",
       "      <td>0.00</td>\n",
       "      <td>0.00</td>\n",
       "      <td>0.00</td>\n",
       "    </tr>\n",
       "  </tbody>\n",
       "</table>\n",
       "</div>"
      ]
     },
     "execution_count": 44,
     "metadata": {},
     "output_type": "execute_result"
    }
   ],
   "execution_count": 44
  },
  {
   "metadata": {},
   "cell_type": "markdown",
   "source": "correlation",
   "id": "b6808c8f088c7019"
  },
  {
   "metadata": {
    "ExecuteTime": {
     "end_time": "2024-10-23T15:49:36.764216Z",
     "start_time": "2024-10-23T15:49:36.423945Z"
    }
   },
   "cell_type": "code",
   "source": [
    "correlations = monthly_df.iloc[:,1:].corr()\n",
    "sns.heatmap(correlations, annot=True, fmt='.2f', cmap='coolwarm')\n",
    "plt.title('current and lagged sales correlation')\n",
    "plt.show()"
   ],
   "id": "94bc6d5ac383ed2c",
   "outputs": [
    {
     "data": {
      "text/plain": [
       "<Figure size 640x480 with 2 Axes>"
      ],
      "image/png": "[encoded data removed]"
     },
     "metadata": {},
     "output_type": "display_data"
    }
   ],
   "execution_count": 45
  },
  {
   "metadata": {
    "ExecuteTime": {
     "end_time": "2024-10-23T15:49:36.771094Z",
     "start_time": "2024-10-23T15:49:36.765319Z"
    }
   },
   "cell_type": "code",
   "source": "monthly_df.head()",
   "id": "923ae60883abbfd5",
   "outputs": [
    {
     "data": {
      "text/plain": [
       "   date_block_num  shop_id  item_id  item_cnt_month  item_price  \\\n",
       "0               0        0       32            6.00      221.00   \n",
       "1               0        0       33            3.00      347.00   \n",
       "2               0        0       35            1.00      247.00   \n",
       "3               0        0       43            1.00      221.00   \n",
       "4               0        0       51            2.00      128.50   \n",
       "\n",
       "   item_cnt_month_lag_1  item_cnt_month_lag_2  item_cnt_month_lag_3  \n",
       "0                  0.00                  0.00                  0.00  \n",
       "1                  0.00                  0.00                  0.00  \n",
       "2                  0.00                  0.00                  0.00  \n",
       "3                  0.00                  0.00                  0.00  \n",
       "4                  0.00                  0.00                  0.00  "
      ],
      "text/html": [
       "<div>\n",
       "<style scoped>\n",
       "    .dataframe tbody tr th:only-of-type {\n",
       "        vertical-align: middle;\n",
       "    }\n",
       "\n",
       "    .dataframe tbody tr th {\n",
       "        vertical-align: top;\n",
       "    }\n",
       "\n",
       "    .dataframe thead th {\n",
       "        text-align: right;\n",
       "    }\n",
       "</style>\n",
       "<table border=\"1\" class=\"dataframe\">\n",
       "  <thead>\n",
       "    <tr style=\"text-align: right;\">\n",
       "      <th></th>\n",
       "      <th>date_block_num</th>\n",
       "      <th>shop_id</th>\n",
       "      <th>item_id</th>\n",
       "      <th>item_cnt_month</th>\n",
       "      <th>item_price</th>\n",
       "      <th>item_cnt_month_lag_1</th>\n",
       "      <th>item_cnt_month_lag_2</th>\n",
       "      <th>item_cnt_month_lag_3</th>\n",
       "    </tr>\n",
       "  </thead>\n",
       "  <tbody>\n",
       "    <tr>\n",
       "      <th>0</th>\n",
       "      <td>0</td>\n",
       "      <td>0</td>\n",
       "      <td>32</td>\n",
       "      <td>6.00</td>\n",
       "      <td>221.00</td>\n",
       "      <td>0.00</td>\n",
       "      <td>0.00</td>\n",
       "      <td>0.00</td>\n",
       "    </tr>\n",
       "    <tr>\n",
       "      <th>1</th>\n",
       "      <td>0</td>\n",
       "      <td>0</td>\n",
       "      <td>33</td>\n",
       "      <td>3.00</td>\n",
       "      <td>347.00</td>\n",
       "      <td>0.00</td>\n",
       "      <td>0.00</td>\n",
       "      <td>0.00</td>\n",
       "    </tr>\n",
       "    <tr>\n",
       "      <th>2</th>\n",
       "      <td>0</td>\n",
       "      <td>0</td>\n",
       "      <td>35</td>\n",
       "      <td>1.00</td>\n",
       "      <td>247.00</td>\n",
       "      <td>0.00</td>\n",
       "      <td>0.00</td>\n",
       "      <td>0.00</td>\n",
       "    </tr>\n",
       "    <tr>\n",
       "      <th>3</th>\n",
       "      <td>0</td>\n",
       "      <td>0</td>\n",
       "      <td>43</td>\n",
       "      <td>1.00</td>\n",
       "      <td>221.00</td>\n",
       "      <td>0.00</td>\n",
       "      <td>0.00</td>\n",
       "      <td>0.00</td>\n",
       "    </tr>\n",
       "    <tr>\n",
       "      <th>4</th>\n",
       "      <td>0</td>\n",
       "      <td>0</td>\n",
       "      <td>51</td>\n",
       "      <td>2.00</td>\n",
       "      <td>128.50</td>\n",
       "      <td>0.00</td>\n",
       "      <td>0.00</td>\n",
       "      <td>0.00</td>\n",
       "    </tr>\n",
       "  </tbody>\n",
       "</table>\n",
       "</div>"
      ]
     },
     "execution_count": 46,
     "metadata": {},
     "output_type": "execute_result"
    }
   ],
   "execution_count": 46
  },
  {
   "metadata": {
    "ExecuteTime": {
     "end_time": "2024-10-23T15:50:52.585615Z",
     "start_time": "2024-10-23T15:49:36.771875Z"
    }
   },
   "cell_type": "code",
   "source": [
    "monthly_df['rolling_mean_3'] = monthly_df.groupby(['shop_id', 'item_id'])['item_cnt_month'].transform(lambda x: x.rolling(window=3).mean())\n",
    "monthly_df['rolling_std_3'] = monthly_df.groupby(['shop_id', 'item_id'])['item_cnt_month'].transform(lambda x: x.rolling(window=3).std())\n",
    "monthly_df.fillna(0, inplace=True)\n",
    "monthly_df.head()"
   ],
   "id": "b9a34d537e1066ed",
   "outputs": [
    {
     "data": {
      "text/plain": [
       "   date_block_num  shop_id  item_id  item_cnt_month  item_price  \\\n",
       "0               0        0       32            6.00      221.00   \n",
       "1               0        0       33            3.00      347.00   \n",
       "2               0        0       35            1.00      247.00   \n",
       "3               0        0       43            1.00      221.00   \n",
       "4               0        0       51            2.00      128.50   \n",
       "\n",
       "   item_cnt_month_lag_1  item_cnt_month_lag_2  item_cnt_month_lag_3  \\\n",
       "0                  0.00                  0.00                  0.00   \n",
       "1                  0.00                  0.00                  0.00   \n",
       "2                  0.00                  0.00                  0.00   \n",
       "3                  0.00                  0.00                  0.00   \n",
       "4                  0.00                  0.00                  0.00   \n",
       "\n",
       "   rolling_mean_3  rolling_std_3  \n",
       "0            0.00           0.00  \n",
       "1            0.00           0.00  \n",
       "2            0.00           0.00  \n",
       "3            0.00           0.00  \n",
       "4            0.00           0.00  "
      ],
      "text/html": [
       "<div>\n",
       "<style scoped>\n",
       "    .dataframe tbody tr th:only-of-type {\n",
       "        vertical-align: middle;\n",
       "    }\n",
       "\n",
       "    .dataframe tbody tr th {\n",
       "        vertical-align: top;\n",
       "    }\n",
       "\n",
       "    .dataframe thead th {\n",
       "        text-align: right;\n",
       "    }\n",
       "</style>\n",
       "<table border=\"1\" class=\"dataframe\">\n",
       "  <thead>\n",
       "    <tr style=\"text-align: right;\">\n",
       "      <th></th>\n",
       "      <th>date_block_num</th>\n",
       "      <th>shop_id</th>\n",
       "      <th>item_id</th>\n",
       "      <th>item_cnt_month</th>\n",
       "      <th>item_price</th>\n",
       "      <th>item_cnt_month_lag_1</th>\n",
       "      <th>item_cnt_month_lag_2</th>\n",
       "      <th>item_cnt_month_lag_3</th>\n",
       "      <th>rolling_mean_3</th>\n",
       "      <th>rolling_std_3</th>\n",
       "    </tr>\n",
       "  </thead>\n",
       "  <tbody>\n",
       "    <tr>\n",
       "      <th>0</th>\n",
       "      <td>0</td>\n",
       "      <td>0</td>\n",
       "      <td>32</td>\n",
       "      <td>6.00</td>\n",
       "      <td>221.00</td>\n",
       "      <td>0.00</td>\n",
       "      <td>0.00</td>\n",
       "      <td>0.00</td>\n",
       "      <td>0.00</td>\n",
       "      <td>0.00</td>\n",
       "    </tr>\n",
       "    <tr>\n",
       "      <th>1</th>\n",
       "      <td>0</td>\n",
       "      <td>0</td>\n",
       "      <td>33</td>\n",
       "      <td>3.00</td>\n",
       "      <td>347.00</td>\n",
       "      <td>0.00</td>\n",
       "      <td>0.00</td>\n",
       "      <td>0.00</td>\n",
       "      <td>0.00</td>\n",
       "      <td>0.00</td>\n",
       "    </tr>\n",
       "    <tr>\n",
       "      <th>2</th>\n",
       "      <td>0</td>\n",
       "      <td>0</td>\n",
       "      <td>35</td>\n",
       "      <td>1.00</td>\n",
       "      <td>247.00</td>\n",
       "      <td>0.00</td>\n",
       "      <td>0.00</td>\n",
       "      <td>0.00</td>\n",
       "      <td>0.00</td>\n",
       "      <td>0.00</td>\n",
       "    </tr>\n",
       "    <tr>\n",
       "      <th>3</th>\n",
       "      <td>0</td>\n",
       "      <td>0</td>\n",
       "      <td>43</td>\n",
       "      <td>1.00</td>\n",
       "      <td>221.00</td>\n",
       "      <td>0.00</td>\n",
       "      <td>0.00</td>\n",
       "      <td>0.00</td>\n",
       "      <td>0.00</td>\n",
       "      <td>0.00</td>\n",
       "    </tr>\n",
       "    <tr>\n",
       "      <th>4</th>\n",
       "      <td>0</td>\n",
       "      <td>0</td>\n",
       "      <td>51</td>\n",
       "      <td>2.00</td>\n",
       "      <td>128.50</td>\n",
       "      <td>0.00</td>\n",
       "      <td>0.00</td>\n",
       "      <td>0.00</td>\n",
       "      <td>0.00</td>\n",
       "      <td>0.00</td>\n",
       "    </tr>\n",
       "  </tbody>\n",
       "</table>\n",
       "</div>"
      ]
     },
     "execution_count": 47,
     "metadata": {},
     "output_type": "execute_result"
    }
   ],
   "execution_count": 47
  },
  {
   "metadata": {
    "ExecuteTime": {
     "end_time": "2024-10-23T15:50:52.765105Z",
     "start_time": "2024-10-23T15:50:52.586625Z"
    }
   },
   "cell_type": "code",
   "source": [
    "x_train = monthly_df[monthly_df['date_block_num'] < 33].drop(['item_cnt_month'], axis=1)\n",
    "y_train = monthly_df[monthly_df['date_block_num'] < 33]['item_cnt_month']\n",
    "x_test = monthly_df[monthly_df['date_block_num'] == 33].drop(['item_cnt_month'], axis=1)\n",
    "y_test = monthly_df[monthly_df['date_block_num'] == 33]['item_cnt_month']"
   ],
   "id": "3896524188fb9d74",
   "outputs": [],
   "execution_count": 48
  },
  {
   "metadata": {
    "ExecuteTime": {
     "end_time": "2024-10-23T15:50:54.704911Z",
     "start_time": "2024-10-23T15:50:52.766120Z"
    }
   },
   "cell_type": "code",
   "source": [
    "model = xgb.XGBRegressor()\n",
    "model.fit(x_train, y_train)\n",
    "y_pred = model.predict(x_test)\n",
    "print(f'MSE: {mean_squared_error(y_test, y_pred)}')\n",
    "print(f'MAE: {mean_absolute_error(y_test, y_pred)}')"
   ],
   "id": "f66462f2fedaede2",
   "outputs": [
    {
     "name": "stdout",
     "output_type": "stream",
     "text": [
      "MSE: 73.12159153479087\n",
      "MAE: 1.0971995891135942\n"
     ]
    }
   ],
   "execution_count": 49
  },
  {
   "metadata": {
    "ExecuteTime": {
     "end_time": "2024-10-23T15:50:55.077785Z",
     "start_time": "2024-10-23T15:50:54.705916Z"
    }
   },
   "cell_type": "code",
   "source": [
    "test_data = test_df.copy()\n",
    "test_data['date_block_num'] = 34\n",
    "test_data = test_data.merge(monthly_df, on=['shop_id', 'item_id', 'date_block_num'], how='left').fillna(0)\n",
    "test_data.head()"
   ],
   "id": "8d4471769ad89633",
   "outputs": [
    {
     "data": {
      "text/plain": [
       "   ID  shop_id  item_id  date_block_num  item_cnt_month  item_price  \\\n",
       "0   0        5     5037              34            0.00        0.00   \n",
       "1   1        5     5320              34            0.00        0.00   \n",
       "2   2        5     5233              34            0.00        0.00   \n",
       "3   3        5     5232              34            0.00        0.00   \n",
       "4   4        5     5268              34            0.00        0.00   \n",
       "\n",
       "   item_cnt_month_lag_1  item_cnt_month_lag_2  item_cnt_month_lag_3  \\\n",
       "0                  0.00                  0.00                  0.00   \n",
       "1                  0.00                  0.00                  0.00   \n",
       "2                  0.00                  0.00                  0.00   \n",
       "3                  0.00                  0.00                  0.00   \n",
       "4                  0.00                  0.00                  0.00   \n",
       "\n",
       "   rolling_mean_3  rolling_std_3  \n",
       "0            0.00           0.00  \n",
       "1            0.00           0.00  \n",
       "2            0.00           0.00  \n",
       "3            0.00           0.00  \n",
       "4            0.00           0.00  "
      ],
      "text/html": [
       "<div>\n",
       "<style scoped>\n",
       "    .dataframe tbody tr th:only-of-type {\n",
       "        vertical-align: middle;\n",
       "    }\n",
       "\n",
       "    .dataframe tbody tr th {\n",
       "        vertical-align: top;\n",
       "    }\n",
       "\n",
       "    .dataframe thead th {\n",
       "        text-align: right;\n",
       "    }\n",
       "</style>\n",
       "<table border=\"1\" class=\"dataframe\">\n",
       "  <thead>\n",
       "    <tr style=\"text-align: right;\">\n",
       "      <th></th>\n",
       "      <th>ID</th>\n",
       "      <th>shop_id</th>\n",
       "      <th>item_id</th>\n",
       "      <th>date_block_num</th>\n",
       "      <th>item_cnt_month</th>\n",
       "      <th>item_price</th>\n",
       "      <th>item_cnt_month_lag_1</th>\n",
       "      <th>item_cnt_month_lag_2</th>\n",
       "      <th>item_cnt_month_lag_3</th>\n",
       "      <th>rolling_mean_3</th>\n",
       "      <th>rolling_std_3</th>\n",
       "    </tr>\n",
       "  </thead>\n",
       "  <tbody>\n",
       "    <tr>\n",
       "      <th>0</th>\n",
       "      <td>0</td>\n",
       "      <td>5</td>\n",
       "      <td>5037</td>\n",
       "      <td>34</td>\n",
       "      <td>0.00</td>\n",
       "      <td>0.00</td>\n",
       "      <td>0.00</td>\n",
       "      <td>0.00</td>\n",
       "      <td>0.00</td>\n",
       "      <td>0.00</td>\n",
       "      <td>0.00</td>\n",
       "    </tr>\n",
       "    <tr>\n",
       "      <th>1</th>\n",
       "      <td>1</td>\n",
       "      <td>5</td>\n",
       "      <td>5320</td>\n",
       "      <td>34</td>\n",
       "      <td>0.00</td>\n",
       "      <td>0.00</td>\n",
       "      <td>0.00</td>\n",
       "      <td>0.00</td>\n",
       "      <td>0.00</td>\n",
       "      <td>0.00</td>\n",
       "      <td>0.00</td>\n",
       "    </tr>\n",
       "    <tr>\n",
       "      <th>2</th>\n",
       "      <td>2</td>\n",
       "      <td>5</td>\n",
       "      <td>5233</td>\n",
       "      <td>34</td>\n",
       "      <td>0.00</td>\n",
       "      <td>0.00</td>\n",
       "      <td>0.00</td>\n",
       "      <td>0.00</td>\n",
       "      <td>0.00</td>\n",
       "      <td>0.00</td>\n",
       "      <td>0.00</td>\n",
       "    </tr>\n",
       "    <tr>\n",
       "      <th>3</th>\n",
       "      <td>3</td>\n",
       "      <td>5</td>\n",
       "      <td>5232</td>\n",
       "      <td>34</td>\n",
       "      <td>0.00</td>\n",
       "      <td>0.00</td>\n",
       "      <td>0.00</td>\n",
       "      <td>0.00</td>\n",
       "      <td>0.00</td>\n",
       "      <td>0.00</td>\n",
       "      <td>0.00</td>\n",
       "    </tr>\n",
       "    <tr>\n",
       "      <th>4</th>\n",
       "      <td>4</td>\n",
       "      <td>5</td>\n",
       "      <td>5268</td>\n",
       "      <td>34</td>\n",
       "      <td>0.00</td>\n",
       "      <td>0.00</td>\n",
       "      <td>0.00</td>\n",
       "      <td>0.00</td>\n",
       "      <td>0.00</td>\n",
       "      <td>0.00</td>\n",
       "      <td>0.00</td>\n",
       "    </tr>\n",
       "  </tbody>\n",
       "</table>\n",
       "</div>"
      ]
     },
     "execution_count": 50,
     "metadata": {},
     "output_type": "execute_result"
    }
   ],
   "execution_count": 50
  },
  {
   "metadata": {
    "ExecuteTime": {
     "end_time": "2024-10-23T15:52:15.895800Z",
     "start_time": "2024-10-23T15:52:15.777989Z"
    }
   },
   "cell_type": "code",
   "source": [
    "X_test = test_data[['date_block_num','shop_id','item_id','item_price','item_cnt_month_lag_1',\n",
    "                    'item_cnt_month_lag_2','item_cnt_month_lag_3','rolling_mean_3','rolling_std_3']]\n",
    "dtest = xgb.DMatrix(X_test)\n",
    "\n",
    "test_data['item_cnt_month'] = model.predict(X_test).clip(0, 20).round()"
   ],
   "id": "efbfc2a7242ab59b",
   "outputs": [],
   "execution_count": 52
  },
  {
   "metadata": {
    "ExecuteTime": {
     "end_time": "2024-10-23T15:52:52.582521Z",
     "start_time": "2024-10-23T15:52:52.427266Z"
    }
   },
   "cell_type": "code",
   "source": [
    "result = pd.concat([test_df[\"ID\"], test_data['item_cnt_month']], axis = 1)\n",
    "result.to_csv('submission.csv',index_label='ID')"
   ],
   "id": "b3f3dcb3780f259b",
   "outputs": [],
   "execution_count": 53
  }
 ],
 "metadata": {
  "kernelspec": {
   "display_name": "Python 3",
   "language": "python",
   "name": "python3"
  },
  "language_info": {
   "codemirror_mode": {
    "name": "ipython",
    "version": 2
   },
   "file_extension": ".py",
   "mimetype": "text/x-python",
   "name": "python",
   "nbconvert_exporter": "python",
   "pygments_lexer": "ipython2",
   "version": "2.7.6"
  }
 },
 "nbformat": 4,
 "nbformat_minor": 5
}
